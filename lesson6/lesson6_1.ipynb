{
  "nbformat": 4,
  "nbformat_minor": 0,
  "metadata": {
    "colab": {
      "provenance": [],
      "authorship_tag": "ABX9TyPF18yzKb/GGgdMOi74oWia",
      "include_colab_link": true
    },
    "kernelspec": {
      "name": "python3",
      "display_name": "Python 3"
    },
    "language_info": {
      "name": "python"
    }
  },
  "cells": [
    {
      "cell_type": "markdown",
      "metadata": {
        "id": "view-in-github",
        "colab_type": "text"
      },
      "source": [
        "<a href=\"https://colab.research.google.com/github/roberthsu2003/__2025_07_25_python_youngtalk__/blob/main/lesson6/lesson6_1.ipynb\" target=\"_parent\"><img src=\"https://colab.research.google.com/assets/colab-badge.svg\" alt=\"Open In Colab\"/></a>"
      ]
    },
    {
      "cell_type": "code",
      "execution_count": 1,
      "metadata": {
        "id": "h0s-vklooAjE",
        "colab": {
          "base_uri": "https://localhost:8080/"
        },
        "outputId": "d5787393-71c4-455c-fdde-6fd2ef06d171"
      },
      "outputs": [
        {
          "output_type": "stream",
          "name": "stdout",
          "text": [
            "請輸入身高(100~250);90\n",
            "範圍錯誤，請重新輸入\n",
            "請輸入身高(100~250);173a\n",
            "格式錯誤!請重新輸入\n",
            "請輸入身高(100~250);173\n",
            "請輸入體重(10~200);70\n",
            "身高:173,體重:70BMI為:23.39\n",
            "健康\n",
            "標準體重為55.37~71.83\n",
            "應用程式結束\n"
          ]
        }
      ],
      "source": [
        "while(True):\n",
        "  try:\n",
        "   height = int(input(\"請輸入身高(100~250);\"))\n",
        "   if height < 100 or height > 250:\n",
        "    print(\"範圍錯誤，請重新輸入\")\n",
        "    continue\n",
        "   else:\n",
        "    break\n",
        "  except ValueError:\n",
        "    print(\"格式錯誤!請重新輸入\")\n",
        "  except Exception as e:\n",
        "    print(f\"{e},請重新輸入\")\n",
        "\n",
        "while(True):\n",
        "  try:\n",
        "   weight = int(input(\"請輸入體重(10~200);\"))\n",
        "   if weight < 10 or weight > 200:\n",
        "    print(\"範圍錯誤，請重新輸入\")\n",
        "    continue\n",
        "   else:\n",
        "    break\n",
        "  except ValueError:\n",
        "    print(\"格式錯誤!請重新輸入\")\n",
        "  except Exception as e:\n",
        "    print(f\"{e},請重新輸入\")\n",
        "\n",
        "\n",
        "bmi = weight / (height/100)**2\n",
        "print(f\"身高:{height},體重:{weight}BMI為:{bmi:.2f}\")\n",
        "if bmi < 18.5:\n",
        "  print(\"體重過輕\")\n",
        "elif bmi < 24:\n",
        "  print(\"健康\")\n",
        "elif bmi < 27:\n",
        "  print(\"體重過重\")\n",
        "elif bmi < 30:\n",
        "  print(\"輕度肥胖\")\n",
        "elif bmi < 35:\n",
        "  print(\"中度肥胖\")\n",
        "else:\n",
        "  print(\"重度肥胖\")\n",
        "min = 18.5 *  (height/100)**2\n",
        "max = 24 * (height/100)**2\n",
        "print(f\"標準體重為{min:.2f}~{max:.2f}\")\n",
        "print(\"應用程式結束\")"
      ]
    },
    {
      "cell_type": "code",
      "source": [
        "import math\n",
        "math.pi\n",
        "math.e"
      ],
      "metadata": {
        "id": "4sAdCljrrDG4",
        "outputId": "f5b0c8d7-5128-4e9f-865d-c6867c42f72d",
        "colab": {
          "base_uri": "https://localhost:8080/"
        }
      },
      "execution_count": 3,
      "outputs": [
        {
          "output_type": "execute_result",
          "data": {
            "text/plain": [
              "2.718281828459045"
            ]
          },
          "metadata": {},
          "execution_count": 3
        }
      ]
    },
    {
      "cell_type": "code",
      "source": [
        "import random\n",
        "random.randrange(5)\n",
        "random.randrange(1,3)\n",
        "random.randint(1,3)"
      ],
      "metadata": {
        "id": "fLkeMOO8rcjE",
        "outputId": "d3c2dc5f-4854-4d52-82ab-ef4a7179e91d",
        "colab": {
          "base_uri": "https://localhost:8080/"
        }
      },
      "execution_count": 24,
      "outputs": [
        {
          "output_type": "execute_result",
          "data": {
            "text/plain": [
              "3"
            ]
          },
          "metadata": {},
          "execution_count": 24
        }
      ]
    },
    {
      "cell_type": "code",
      "source": [
        "#猜數字遊戲"
      ],
      "metadata": {
        "id": "3Oa2oGt8tG62"
      },
      "execution_count": 25,
      "outputs": []
    }
  ]
}