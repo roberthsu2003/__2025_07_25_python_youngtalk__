{
 "cells": [
  {
   "cell_type": "code",
   "execution_count": null,
   "id": "0b4bca39",
   "metadata": {},
   "outputs": [
    {
     "data": {
      "text/plain": [
       "{'name': 'robert', 'play_times': 5, 'roler': 'hoster'}"
      ]
     },
     "execution_count": 1,
     "metadata": {},
     "output_type": "execute_result"
    }
   ],
   "source": [
    "#dict,詞典物件\n",
    "player1:dict = {\"name\":\"robert\",\n",
    "           \"play_times\":5,\n",
    "           \"roler\":\"hoster\"}\n",
    "\n",
    "player1"
   ]
  },
  {
   "cell_type": "code",
   "execution_count": null,
   "id": "22273bc2",
   "metadata": {},
   "outputs": [
    {
     "data": {
      "text/plain": [
       "{'name': 'jenny', 'play_times': 6, 'roler': 'challenger'}"
      ]
     },
     "execution_count": 2,
     "metadata": {},
     "output_type": "execute_result"
    }
   ],
   "source": [
    "player2:dict = {}\n",
    "player2[\"name\"] = \"jenny\"\n",
    "player2[\"play_times\"] = 6\n",
    "player2[\"roler\"] = \"challenger\"\n",
    "\n",
    "player2"
   ]
  },
  {
   "cell_type": "code",
   "execution_count": 4,
   "id": "0e7b37aa",
   "metadata": {},
   "outputs": [
    {
     "data": {
      "text/plain": [
       "('robert', 'jenny')"
      ]
     },
     "execution_count": 4,
     "metadata": {},
     "output_type": "execute_result"
    }
   ],
   "source": [
    "player1[\"name\"],player2[\"name\"]"
   ]
  },
  {
   "cell_type": "code",
   "execution_count": null,
   "id": "160b7dea",
   "metadata": {},
   "outputs": [
    {
     "data": {
      "text/plain": [
       "[{'name': 'robert', 'play_times': 5, 'roler': 'hoster'},\n",
       " {'name': 'jenny', 'play_times': 6, 'roler': 'challenger'}]"
      ]
     },
     "execution_count": 5,
     "metadata": {},
     "output_type": "execute_result"
    }
   ],
   "source": [
    "players:list = [player1, player2]\n",
    "players"
   ]
  },
  {
   "cell_type": "code",
   "execution_count": null,
   "id": "33a1bdb6",
   "metadata": {},
   "outputs": [
    {
     "data": {
      "text/plain": [
       "3"
      ]
     },
     "execution_count": 8,
     "metadata": {},
     "output_type": "execute_result"
    }
   ],
   "source": [
    "#len(),查詢元素的數量\n",
    "len(players)\n",
    "len(player1)\n",
    "len(player2)"
   ]
  },
  {
   "cell_type": "code",
   "execution_count": null,
   "id": "59f04b0e",
   "metadata": {},
   "outputs": [
    {
     "name": "stdout",
     "output_type": "stream",
     "text": [
      "{'name': 'robert', 'play_times': 5, 'roler': 'hoster'}\n",
      "{'name': 'jenny', 'play_times': 6, 'roler': 'challenger'}\n"
     ]
    }
   ],
   "source": [
    "#list資料類型\n",
    "#for..in..取出所有的元素\n",
    "for player in players: #list\n",
    "    print(player)"
   ]
  },
  {
   "cell_type": "code",
   "execution_count": 14,
   "id": "59e65626",
   "metadata": {},
   "outputs": [
    {
     "name": "stdout",
     "output_type": "stream",
     "text": [
      "key:name\n",
      "value:robert\n",
      "key:play_times\n",
      "value:5\n",
      "key:roler\n",
      "value:hoster\n",
      "==========\n",
      "key:name\n",
      "value:jenny\n",
      "key:play_times\n",
      "value:6\n",
      "key:roler\n",
      "value:challenger\n"
     ]
    }
   ],
   "source": [
    "#dict資料類型\n",
    "#dict使用for...in \n",
    "\n",
    "for key in player1: #取出key\n",
    "    print(f\"key:{key}\")\n",
    "    print(f\"value:{player1[key]}\")\n",
    "\n",
    "print(\"==========\")\n",
    "\n",
    "for key in player2:\n",
    "    print(f\"key:{key}\")\n",
    "    print(f\"value:{player2.get(key)}\")"
   ]
  },
  {
   "cell_type": "code",
   "execution_count": 18,
   "id": "591d7b59",
   "metadata": {},
   "outputs": [
    {
     "data": {
      "text/plain": [
       "'Empty'"
      ]
     },
     "execution_count": 18,
     "metadata": {},
     "output_type": "execute_result"
    }
   ],
   "source": [
    "#max()的使用\n",
    "max(3, 7, 2) \n",
    "max([3, 7, 2])\n",
    "words = ['pear', 'apple', 'banana']\n",
    "max(words, key=len)  # 回傳 'banana'\n",
    "max([], default='Empty')  # 回傳 'Empty'"
   ]
  },
  {
   "cell_type": "code",
   "execution_count": null,
   "id": "9d86245b",
   "metadata": {},
   "outputs": [],
   "source": [
    "#max() with dict\n",
    "data = {'a': 100, 'b': 200, 'c': 50}\n",
    "max_value = max(data.values())\n",
    "print(max_value) \n",
    "\n",
    "data = {'a': 100, 'b': 200, 'c': 50}\n",
    "max_key = max(data, key=data.get)\n",
    "print(max_key)  # 輸出 'b'"
   ]
  },
  {
   "cell_type": "code",
   "execution_count": 19,
   "id": "c4ebd4de",
   "metadata": {},
   "outputs": [
    {
     "name": "stdout",
     "output_type": "stream",
     "text": [
      "{'name': 'cherry', 'weight': 0.8}\n"
     ]
    }
   ],
   "source": [
    "#max() with list of dict\n",
    "\n",
    "fruits = [\n",
    "    {'name': 'apple', 'weight': 0.5},\n",
    "    {'name': 'banana', 'weight': 0.3},\n",
    "    {'name': 'cherry', 'weight': 0.8}\n",
    "]\n",
    "\n",
    "max_fruit = max(fruits, key=lambda fruit: fruit['weight'])\n",
    "print(max_fruit)  # 輸出{'name': 'cherry', 'weight': 0.8}"
   ]
  }
 ],
 "metadata": {
  "kernelspec": {
   "display_name": "base",
   "language": "python",
   "name": "python3"
  },
  "language_info": {
   "codemirror_mode": {
    "name": "ipython",
    "version": 3
   },
   "file_extension": ".py",
   "mimetype": "text/x-python",
   "name": "python",
   "nbconvert_exporter": "python",
   "pygments_lexer": "ipython3",
   "version": "3.13.2"
  }
 },
 "nbformat": 4,
 "nbformat_minor": 5
}
