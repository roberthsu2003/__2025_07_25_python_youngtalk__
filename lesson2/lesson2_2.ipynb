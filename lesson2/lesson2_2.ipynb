{
  "nbformat": 4,
  "nbformat_minor": 0,
  "metadata": {
    "colab": {
      "provenance": [],
      "authorship_tag": "ABX9TyNdgV6voEV8fnay5YyxVrdU",
      "include_colab_link": true
    },
    "kernelspec": {
      "name": "python3",
      "display_name": "Python 3"
    },
    "language_info": {
      "name": "python"
    }
  },
  "cells": [
    {
      "cell_type": "markdown",
      "metadata": {
        "id": "view-in-github",
        "colab_type": "text"
      },
      "source": [
        "<a href=\"https://colab.research.google.com/github/roberthsu2003/__2025_07_25_python_youngtalk__/blob/main/lesson2/lesson2_2.ipynb\" target=\"_parent\"><img src=\"https://colab.research.google.com/assets/colab-badge.svg\" alt=\"Open In Colab\"/></a>"
      ]
    },
    {
      "cell_type": "markdown",
      "source": [
        "### 數學運算"
      ],
      "metadata": {
        "id": "lnt9yDoHXOt0"
      }
    },
    {
      "cell_type": "code",
      "execution_count": 7,
      "metadata": {
        "id": "BzXDWvaoW_qP",
        "outputId": "4fb07d58-d227-4b95-8d6d-f2103c2156c7",
        "colab": {
          "base_uri": "https://localhost:8080/"
        }
      },
      "outputs": [
        {
          "output_type": "stream",
          "name": "stdout",
          "text": [
            "上底: 3.56\n",
            "下底: 10.97\n",
            "高: 2.65\n",
            "梯形的面積: 19.25225\n"
          ]
        }
      ],
      "source": [
        "#讓使用者輸入梯形的上底、下底及高，程式會計算梯形的面積(上底加下底乘以高除以2)\n",
        "top = 3.56\n",
        "bottom = 10.97\n",
        "height = 2.65\n",
        "area = (top + bottom) * height / 2\n",
        "\n",
        "\n",
        "print(\"上底:\", top)\n",
        "print(\"下底:\", bottom)\n",
        "print(\"高:\", height)\n",
        "print(\"梯形的面積:\", area)"
      ]
    },
    {
      "cell_type": "code",
      "source": [
        "print(1, 2.0, '3.0', True, False)"
      ],
      "metadata": {
        "id": "X4iwNSjHZw6Q",
        "outputId": "b8c6cb78-259e-4ab7-8b4b-06d40435589c",
        "colab": {
          "base_uri": "https://localhost:8080/"
        }
      },
      "execution_count": 4,
      "outputs": [
        {
          "output_type": "stream",
          "name": "stdout",
          "text": [
            "1 2.0 3.0 True False\n"
          ]
        }
      ]
    }
  ]
}