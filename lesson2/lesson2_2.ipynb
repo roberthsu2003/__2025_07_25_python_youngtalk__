{
  "nbformat": 4,
  "nbformat_minor": 0,
  "metadata": {
    "colab": {
      "provenance": [],
      "authorship_tag": "ABX9TyOY/oFKTeo+VE2fAdBCjPK1",
      "include_colab_link": true
    },
    "kernelspec": {
      "name": "python3",
      "display_name": "Python 3"
    },
    "language_info": {
      "name": "python"
    }
  },
  "cells": [
    {
      "cell_type": "markdown",
      "metadata": {
        "id": "view-in-github",
        "colab_type": "text"
      },
      "source": [
        "<a href=\"https://colab.research.google.com/github/roberthsu2003/__2025_07_25_python_youngtalk__/blob/main/lesson2/lesson2_2.ipynb\" target=\"_parent\"><img src=\"https://colab.research.google.com/assets/colab-badge.svg\" alt=\"Open In Colab\"/></a>"
      ]
    },
    {
      "cell_type": "markdown",
      "source": [
        "### 數學運算"
      ],
      "metadata": {
        "id": "lnt9yDoHXOt0"
      }
    },
    {
      "cell_type": "code",
      "execution_count": 7,
      "metadata": {
        "id": "BzXDWvaoW_qP",
        "colab": {
          "base_uri": "https://localhost:8080/"
        },
        "outputId": "4fb07d58-d227-4b95-8d6d-f2103c2156c7"
      },
      "outputs": [
        {
          "output_type": "stream",
          "name": "stdout",
          "text": [
            "上底: 3.56\n",
            "下底: 10.97\n",
            "高: 2.65\n",
            "梯形的面積: 19.25225\n"
          ]
        }
      ],
      "source": [
        "#讓使用者輸入梯形的上底、下底及高，程式會計算梯形的面積(上底加下底乘以高除以2)\n",
        "top = 3.56\n",
        "bottom = 10.97\n",
        "height = 2.65\n",
        "area = (top + bottom) * height / 2\n",
        "\n",
        "\n",
        "print(\"上底:\", top)\n",
        "print(\"下底:\", bottom)\n",
        "print(\"高:\", height)\n",
        "print(\"梯形的面積:\", area)"
      ]
    },
    {
      "cell_type": "code",
      "source": [
        "print(1, 2.0, '3.0', True, False)"
      ],
      "metadata": {
        "colab": {
          "base_uri": "https://localhost:8080/"
        },
        "id": "X4iwNSjHZw6Q",
        "outputId": "b8c6cb78-259e-4ab7-8b4b-06d40435589c"
      },
      "execution_count": 4,
      "outputs": [
        {
          "output_type": "stream",
          "name": "stdout",
          "text": [
            "1 2.0 3.0 True False\n"
          ]
        }
      ]
    },
    {
      "cell_type": "markdown",
      "source": [
        "### 資料轉型"
      ],
      "metadata": {
        "id": "TlGfj4uLfet5"
      }
    },
    {
      "cell_type": "code",
      "source": [
        "int(\"13\")\n",
        "int(float(\"13.5\"))"
      ],
      "metadata": {
        "colab": {
          "base_uri": "https://localhost:8080/"
        },
        "id": "Ypt4-_dPfkRV",
        "outputId": "e7872310-7787-4fcb-ca16-96782ab2ce30"
      },
      "execution_count": 13,
      "outputs": [
        {
          "output_type": "execute_result",
          "data": {
            "text/plain": [
              "13"
            ]
          },
          "metadata": {},
          "execution_count": 13
        }
      ]
    },
    {
      "cell_type": "code",
      "source": [
        "int(13.5)"
      ],
      "metadata": {
        "colab": {
          "base_uri": "https://localhost:8080/"
        },
        "id": "OTidzESyhEDd",
        "outputId": "7673fb1a-6e4d-406b-d704-7afaf3c675bb"
      },
      "execution_count": 11,
      "outputs": [
        {
          "output_type": "execute_result",
          "data": {
            "text/plain": [
              "13"
            ]
          },
          "metadata": {},
          "execution_count": 11
        }
      ]
    },
    {
      "cell_type": "code",
      "source": [
        "value = float(input(\"請輸入一個數值:\"))\n",
        "print(\"您輸入的數值是\",value)"
      ],
      "metadata": {
        "colab": {
          "base_uri": "https://localhost:8080/"
        },
        "id": "_8xp7a3wh23C",
        "outputId": "1eba18f4-abda-483d-debf-6fc1b5e1e2c3"
      },
      "execution_count": 19,
      "outputs": [
        {
          "output_type": "stream",
          "name": "stdout",
          "text": [
            "請輸入一個數值:15.5\n",
            "您輸入的數值是 15.5\n"
          ]
        }
      ]
    },
    {
      "cell_type": "code",
      "source": [
        "#讓使用者輸入梯形的上底、下底及高，程式會計算梯形的面積(上底加下底乘以高除以2)\n",
        "top = float(input(\"請輸入上底:\"))\n",
        "bottom = float(input(\"請輸入下底:\"))\n",
        "height = float(input(\"請輸入高:\"))\n",
        "area = (top + bottom) * height / 2\n",
        "\n",
        "print(\"\\n======答案是=========\\n\")\n",
        "print(\"上底:\", top)\n",
        "print(\"下底:\", bottom)\n",
        "print(\"高:\", height)\n",
        "print(\"梯形的面積:\", area)"
      ],
      "metadata": {
        "colab": {
          "base_uri": "https://localhost:8080/"
        },
        "id": "WIkwz_IulPsR",
        "outputId": "ebb9eadc-a393-4e41-f749-ec8cc2ad68ba"
      },
      "execution_count": 22,
      "outputs": [
        {
          "output_type": "stream",
          "name": "stdout",
          "text": [
            "請輸入上底:10\n",
            "請輸入下底:15\n",
            "請輸入高:2\n",
            "\n",
            "======答案是=========\n",
            "\n",
            "上底: 10.0\n",
            "下底: 15.0\n",
            "高: 2.0\n",
            "梯形的面積: 25.0\n"
          ]
        }
      ]
    },
    {
      "cell_type": "code",
      "source": [
        "import math\n",
        "\n",
        "print(\"======直角三角形(畢式定理)=========\\n\")\n",
        "side = float(input(\"對邊:\"))\n",
        "another_side = float(input(\"鄰邊:\"))\n",
        "result = math.sqrt(side ** 2 + another_side ** 2)\n",
        "\n",
        "print(\"\\n======答案是=========\\n\")\n",
        "\n",
        "print(\"對邊:\",side)\n",
        "print(\"鄰邊:\",another_side)\n",
        "print(\"斜邊:\", result)"
      ],
      "metadata": {
        "id": "wSUQYwHKqK1p",
        "outputId": "e4e122c8-1421-44ea-e5d9-16a566a008f5",
        "colab": {
          "base_uri": "https://localhost:8080/"
        }
      },
      "execution_count": 24,
      "outputs": [
        {
          "output_type": "stream",
          "name": "stdout",
          "text": [
            "======直角三角形(畢式定理)=========\n",
            "\n",
            "對邊:3\n",
            "鄰邊:4\n",
            "\n",
            "======答案是=========\n",
            "\n",
            "對邊: 3.0\n",
            "鄰邊: 4.0\n",
            "斜邊: 5.0\n"
          ]
        }
      ]
    }
  ]
}