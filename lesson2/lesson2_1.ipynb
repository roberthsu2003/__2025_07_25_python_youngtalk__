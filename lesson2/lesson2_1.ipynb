{
  "nbformat": 4,
  "nbformat_minor": 0,
  "metadata": {
    "colab": {
      "provenance": [],
      "authorship_tag": "ABX9TyNJ5sFV0V/hztTaATky7L+Z",
      "include_colab_link": true
    },
    "kernelspec": {
      "name": "python3",
      "display_name": "Python 3"
    },
    "language_info": {
      "name": "python"
    }
  },
  "cells": [
    {
      "cell_type": "markdown",
      "metadata": {
        "id": "view-in-github",
        "colab_type": "text"
      },
      "source": [
        "<a href=\"https://colab.research.google.com/github/roberthsu2003/__2025_07_25_python_youngtalk__/blob/main/lesson2/lesson2_1.ipynb\" target=\"_parent\"><img src=\"https://colab.research.google.com/assets/colab-badge.svg\" alt=\"Open In Colab\"/></a>"
      ]
    },
    {
      "cell_type": "code",
      "execution_count": 5,
      "metadata": {
        "id": "hNDJRJLPHZR1",
        "outputId": "832889ce-2f73-41a7-b083-ce09d2d22539",
        "colab": {
          "base_uri": "https://localhost:8080/"
        }
      },
      "outputs": [
        {
          "output_type": "stream",
          "name": "stdout",
          "text": [
            "14\n",
            "20\n",
            "10\n"
          ]
        }
      ],
      "source": [
        "print(2 + 3 * 4)\n",
        "print((2 + 3) * 4)\n",
        "print(2 * (1 + 2) ** 2 - 2 ** 2 * 2)"
      ]
    },
    {
      "cell_type": "markdown",
      "source": [
        "### 建立變數"
      ],
      "metadata": {
        "id": "vJbS5pVGNWQE"
      }
    },
    {
      "cell_type": "code",
      "source": [
        "n1 = 2 + 3 * 4\n",
        "n2 = (2 + 3) * 4\n",
        "n3 = 2.0 * (1 + 2) ** 2 - 2 ** 2 * 2\n",
        "\n",
        "\n",
        "print(n1)\n",
        "print(n2)\n",
        "print(n3)"
      ],
      "metadata": {
        "id": "bKCos9MdMrAK",
        "outputId": "94ed46d0-fafa-46d6-e195-8d1c66ef6682",
        "colab": {
          "base_uri": "https://localhost:8080/"
        }
      },
      "execution_count": 11,
      "outputs": [
        {
          "output_type": "stream",
          "name": "stdout",
          "text": [
            "14\n",
            "20\n",
            "10.0\n"
          ]
        }
      ]
    },
    {
      "cell_type": "code",
      "source": [
        "print(n1)\n",
        "print(n2)\n",
        "print(n3)"
      ],
      "metadata": {
        "id": "mYl9E_f3Q0mP",
        "outputId": "5cd09e67-f62d-4107-bc88-d6226229f246",
        "colab": {
          "base_uri": "https://localhost:8080/"
        }
      },
      "execution_count": 12,
      "outputs": [
        {
          "output_type": "stream",
          "name": "stdout",
          "text": [
            "14\n",
            "20\n",
            "10.0\n"
          ]
        }
      ]
    }
  ]
}