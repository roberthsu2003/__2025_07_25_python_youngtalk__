{
  "nbformat": 4,
  "nbformat_minor": 0,
  "metadata": {
    "colab": {
      "provenance": [],
      "authorship_tag": "ABX9TyMTX+AKb2syY+/SPnfL0UdO",
      "include_colab_link": true
    },
    "kernelspec": {
      "name": "python3",
      "display_name": "Python 3"
    },
    "language_info": {
      "name": "python"
    }
  },
  "cells": [
    {
      "cell_type": "markdown",
      "metadata": {
        "id": "view-in-github",
        "colab_type": "text"
      },
      "source": [
        "<a href=\"https://colab.research.google.com/github/roberthsu2003/__2025_07_25_python_youngtalk__/blob/main/lesson2/lesson2_1.ipynb\" target=\"_parent\"><img src=\"https://colab.research.google.com/assets/colab-badge.svg\" alt=\"Open In Colab\"/></a>"
      ]
    },
    {
      "cell_type": "code",
      "execution_count": 5,
      "metadata": {
        "id": "hNDJRJLPHZR1",
        "colab": {
          "base_uri": "https://localhost:8080/"
        },
        "outputId": "832889ce-2f73-41a7-b083-ce09d2d22539"
      },
      "outputs": [
        {
          "output_type": "stream",
          "name": "stdout",
          "text": [
            "14\n",
            "20\n",
            "10\n"
          ]
        }
      ],
      "source": [
        "print(2 + 3 * 4)\n",
        "print((2 + 3) * 4)\n",
        "print(2 * (1 + 2) ** 2 - 2 ** 2 * 2)"
      ]
    },
    {
      "cell_type": "markdown",
      "source": [
        "### 建立變數"
      ],
      "metadata": {
        "id": "vJbS5pVGNWQE"
      }
    },
    {
      "cell_type": "code",
      "source": [
        "n1 = 2 + 3 * 4\n",
        "n2 = (2 + 3) * 4\n",
        "n3 = 2.0 * (1 + 2) ** 2 - 2 ** 2 * 2\n",
        "\n",
        "\n",
        "print(n1)\n",
        "print(n2)\n",
        "print(n3)"
      ],
      "metadata": {
        "colab": {
          "base_uri": "https://localhost:8080/"
        },
        "id": "bKCos9MdMrAK",
        "outputId": "94ed46d0-fafa-46d6-e195-8d1c66ef6682"
      },
      "execution_count": 11,
      "outputs": [
        {
          "output_type": "stream",
          "name": "stdout",
          "text": [
            "14\n",
            "20\n",
            "10.0\n"
          ]
        }
      ]
    },
    {
      "cell_type": "code",
      "source": [
        "print(n1)\n",
        "print(n2)\n",
        "print(n3)"
      ],
      "metadata": {
        "colab": {
          "base_uri": "https://localhost:8080/"
        },
        "id": "mYl9E_f3Q0mP",
        "outputId": "5cd09e67-f62d-4107-bc88-d6226229f246"
      },
      "execution_count": 12,
      "outputs": [
        {
          "output_type": "stream",
          "name": "stdout",
          "text": [
            "14\n",
            "20\n",
            "10.0\n"
          ]
        }
      ]
    },
    {
      "cell_type": "code",
      "source": [
        "poem = \"Apple Arcade\"\n",
        "poem = \"apple arcade\"\n",
        "print(poem)"
      ],
      "metadata": {
        "id": "k-YgbBXzSdn7",
        "outputId": "7c2a6537-54ae-44d1-b316-7ffd41f7b751",
        "colab": {
          "base_uri": "https://localhost:8080/"
        }
      },
      "execution_count": 14,
      "outputs": [
        {
          "output_type": "stream",
          "name": "stdout",
          "text": [
            "apple arcade\n"
          ]
        }
      ]
    },
    {
      "cell_type": "code",
      "source": [
        "poem1 = \"Apple\\nArcade\"\n",
        "print(poem1)\n",
        "poem2 = \"Apple\\tArcade\"\n",
        "print(poem2)\n",
        "poem3 = \"Apple Arcade 推出的最新遊戲《Next Stop Nowhere》,\\n 由位於洛杉磯的開發商 Night School Studio 出品。\\n這款遊戲是太空公路之旅的夥伴冒險，其中不同角色間展開了一些精彩的劇情。\"\n",
        "print(poem3)"
      ],
      "metadata": {
        "id": "LkNXESCZTQa3",
        "outputId": "2f162cbe-f591-4070-aac1-b4aef2667bb1",
        "colab": {
          "base_uri": "https://localhost:8080/"
        }
      },
      "execution_count": 18,
      "outputs": [
        {
          "output_type": "stream",
          "name": "stdout",
          "text": [
            "Apple\n",
            "Arcade\n",
            "Apple\tArcade\n",
            "Apple Arcade 推出的最新遊戲《Next Stop Nowhere》,\n",
            " 由位於洛杉磯的開發商 Night School Studio 出品。\n",
            "這款遊戲是太空公路之旅的夥伴冒險，其中不同角色間展開了一些精彩的劇情。\n"
          ]
        }
      ]
    },
    {
      "cell_type": "markdown",
      "source": [
        "### 多行文字"
      ],
      "metadata": {
        "id": "ZHXtLWOwU4wA"
      }
    },
    {
      "cell_type": "code",
      "source": [
        "poem4 = \"\"\"Apple Arcade 推出的最新遊戲《Next Stop Nowhere\n",
        "由位於洛杉磯的開發商 Night School Studio 出品\n",
        "這款遊戲是太空公路之旅的夥伴冒險，其中不同角色間展開了一些精彩的劇情。\n",
        "在銀河系的外圍，每個人和所有事物之間都有充分的空間\n",
        "希望這款遊戲可為近來可能感到孤立的玩家提供一些慰藉。\"\"\"\n",
        "\n",
        "print(poem4)"
      ],
      "metadata": {
        "id": "t9uKGlNQUlmN",
        "outputId": "e61d8a7b-7b5c-4533-bc6e-9b85b7811285",
        "colab": {
          "base_uri": "https://localhost:8080/"
        }
      },
      "execution_count": 24,
      "outputs": [
        {
          "output_type": "stream",
          "name": "stdout",
          "text": [
            "Apple Arcade 推出的最新遊戲《Next Stop Nowhere\n",
            "由位於洛杉磯的開發商 Night School Studio 出品\n",
            "這款遊戲是太空公路之旅的夥伴冒險，其中不同角色間展開了一些精彩的劇情。\n",
            "在銀河系的外圍，每個人和所有事物之間都有充分的空間\n",
            "希望這款遊戲可為近來可能感到孤立的玩家提供一些慰藉。\n"
          ]
        }
      ]
    }
  ]
}