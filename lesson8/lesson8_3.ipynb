{
 "cells": [
  {
   "cell_type": "code",
   "execution_count": 1,
   "id": "96d7f6fd",
   "metadata": {},
   "outputs": [],
   "source": [
    "#沒有參數,沒有傳出值的\n",
    "def say_hello()->None:\n",
    "    print(\"Hello!\")"
   ]
  },
  {
   "cell_type": "code",
   "execution_count": 2,
   "id": "ac5463c2",
   "metadata": {},
   "outputs": [
    {
     "name": "stdout",
     "output_type": "stream",
     "text": [
      "Hello!\n"
     ]
    }
   ],
   "source": [
    "#呼叫function\n",
    "say_hello()"
   ]
  },
  {
   "cell_type": "code",
   "execution_count": 4,
   "id": "ff00ebdf",
   "metadata": {},
   "outputs": [],
   "source": [
    "def agreet(name:str)->None:\n",
    "    print(f\"Hello {name}! \")"
   ]
  },
  {
   "cell_type": "code",
   "execution_count": 5,
   "id": "a060e5f2",
   "metadata": {},
   "outputs": [
    {
     "name": "stdout",
     "output_type": "stream",
     "text": [
      "Hello Robert! \n"
     ]
    }
   ],
   "source": [
    "agreet(\"Robert\")"
   ]
  },
  {
   "cell_type": "code",
   "execution_count": 10,
   "id": "7f7ea562",
   "metadata": {},
   "outputs": [],
   "source": [
    "def add(a:int, b:int)->int:\n",
    "    \"\"\"\n",
    "    2數相加\n",
    "\n",
    "    參數:\n",
    "        a int\n",
    "        b int\n",
    "\n",
    "    傳出值(int):\n",
    "        傳出相加的值\n",
    "    \"\"\"\n",
    "    return a + b\n"
   ]
  },
  {
   "cell_type": "code",
   "execution_count": 9,
   "id": "e8c9805c",
   "metadata": {},
   "outputs": [
    {
     "data": {
      "text/plain": [
       "120"
      ]
     },
     "execution_count": 9,
     "metadata": {},
     "output_type": "execute_result"
    }
   ],
   "source": [
    "add(15, 105)"
   ]
  }
 ],
 "metadata": {
  "kernelspec": {
   "display_name": "base",
   "language": "python",
   "name": "python3"
  },
  "language_info": {
   "codemirror_mode": {
    "name": "ipython",
    "version": 3
   },
   "file_extension": ".py",
   "mimetype": "text/x-python",
   "name": "python",
   "nbconvert_exporter": "python",
   "pygments_lexer": "ipython3",
   "version": "3.13.2"
  }
 },
 "nbformat": 4,
 "nbformat_minor": 5
}
