{
  "nbformat": 4,
  "nbformat_minor": 0,
  "metadata": {
    "colab": {
      "provenance": [],
      "authorship_tag": "ABX9TyOSRBBXhGnk1B/T0DaizO4i",
      "include_colab_link": true
    },
    "kernelspec": {
      "name": "python3",
      "display_name": "Python 3"
    },
    "language_info": {
      "name": "python"
    }
  },
  "cells": [
    {
      "cell_type": "markdown",
      "metadata": {
        "id": "view-in-github",
        "colab_type": "text"
      },
      "source": [
        "<a href=\"https://colab.research.google.com/github/roberthsu2003/__2025_07_25_python_youngtalk__/blob/main/lesson4/lesson4_2.ipynb\" target=\"_parent\"><img src=\"https://colab.research.google.com/assets/colab-badge.svg\" alt=\"Open In Colab\"/></a>"
      ]
    },
    {
      "cell_type": "code",
      "execution_count": 3,
      "metadata": {
        "id": "0a7LXQHLOk0M",
        "colab": {
          "base_uri": "https://localhost:8080/"
        },
        "outputId": "b5ab8d4e-c3f3-4ca9-9bcf-0e692a17d84d"
      },
      "outputs": [
        {
          "output_type": "stream",
          "name": "stdout",
          "text": [
            "請輸入分數:59\n",
            "不及格\n"
          ]
        }
      ],
      "source": [
        "#大於等於90是優\n",
        "#大於等於60同時小於90是及格\n",
        "#小於60是不及格\n",
        "\n",
        "score = int(input(\"請輸入分數:\"))\n",
        "if score >= 90:\n",
        "  print(\"優\")\n",
        "else:\n",
        "  if score >= 60:\n",
        "    print(\"及格\")\n",
        "  else:\n",
        "    print(\"不及格\")"
      ]
    }
  ]
}