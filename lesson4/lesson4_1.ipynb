{
  "nbformat": 4,
  "nbformat_minor": 0,
  "metadata": {
    "colab": {
      "provenance": [],
      "authorship_tag": "ABX9TyPBviXPSKA23UoVTIOQBGkD",
      "include_colab_link": true
    },
    "kernelspec": {
      "name": "python3",
      "display_name": "Python 3"
    },
    "language_info": {
      "name": "python"
    }
  },
  "cells": [
    {
      "cell_type": "markdown",
      "metadata": {
        "id": "view-in-github",
        "colab_type": "text"
      },
      "source": [
        "<a href=\"https://colab.research.google.com/github/roberthsu2003/__2025_07_25_python_youngtalk__/blob/main/lesson4/lesson4_1.ipynb\" target=\"_parent\"><img src=\"https://colab.research.google.com/assets/colab-badge.svg\" alt=\"Open In Colab\"/></a>"
      ]
    },
    {
      "cell_type": "code",
      "execution_count": 10,
      "metadata": {
        "id": "Sgc6sy1A26jL",
        "colab": {
          "base_uri": "https://localhost:8080/"
        },
        "outputId": "065cc8a2-1c87-4d81-8490-ae7d277acd7c"
      },
      "outputs": [
        {
          "output_type": "stream",
          "name": "stdout",
          "text": [
            "請輸入身高(cm)183\n",
            "請輸入體重(kg)80\n",
            "你的身高為:183.0,你的體重為:80.0,你的BMI為:23.89\n"
          ]
        }
      ],
      "source": [
        "height = float(input(\"請輸入身高(cm)\"))\n",
        "weight = float(input(\"請輸入體重(kg)\"))\n",
        "BMI = weight / (height/100) ** 2\n",
        "\n",
        "print (f\"你的身高為:{height},你的體重為:{weight},你的BMI為:{BMI:.2f}\")\n"
      ]
    },
    {
      "cell_type": "code",
      "source": [
        "#學生總分為300\n",
        "#要檢查學生輸入的分數,是否是0~300\n",
        "#有些學生可以加分5%\n",
        "#學生分數加分後,不可以超過300\n",
        "\n",
        "scores = int(input(\"請輸入學生分數(最高300分):\"))\n",
        "if scores >=0 and scores <=300:\n",
        "  is_add = input(\"學生是否符合加分條件?(y,n)\")\n",
        "\n",
        "  #巢狀判斷,處理2個條件\n",
        "  if is_add==\"y\":\n",
        "    scores *= 1.05\n",
        "    if scores > 300:\n",
        "      scores = 300\n",
        "\n",
        "  print(round(scores))\n",
        "else:\n",
        "  print(\"輸入的範圍,必需在0~300之間\")\n",
        "\n",
        "print(\"應用程式結束\")"
      ],
      "metadata": {
        "colab": {
          "base_uri": "https://localhost:8080/"
        },
        "id": "eteE4hLk8MfK",
        "outputId": "f4803b63-92f6-422b-f0a2-22b14bb81119"
      },
      "execution_count": 11,
      "outputs": [
        {
          "output_type": "stream",
          "name": "stdout",
          "text": [
            "請輸入學生分數(最高300分):290\n",
            "學生是否符合加分條件?(y,n)y\n",
            "300\n",
            "應用程式結束\n"
          ]
        }
      ]
    },
    {
      "cell_type": "code",
      "source": [
        "money = int(input(\"請輸入金額:\"))\n",
        "money"
      ],
      "metadata": {
        "colab": {
          "base_uri": "https://localhost:8080/",
          "height": 108
        },
        "id": "jWeC45He9eZy",
        "outputId": "9dd6fc12-a9c3-4ea0-f568-1463e024f528"
      },
      "execution_count": 13,
      "outputs": [
        {
          "output_type": "error",
          "ename": "SyntaxError",
          "evalue": "'(' was never closed (ipython-input-13-330124689.py, line 1)",
          "traceback": [
            "\u001b[0;36m  File \u001b[0;32m\"/tmp/ipython-input-13-330124689.py\"\u001b[0;36m, line \u001b[0;32m1\u001b[0m\n\u001b[0;31m    money = int(input(\"請輸入金額:\")\u001b[0m\n\u001b[0m               ^\u001b[0m\n\u001b[0;31mSyntaxError\u001b[0m\u001b[0;31m:\u001b[0m '(' was never closed\n"
          ]
        }
      ]
    },
    {
      "cell_type": "code",
      "source": [
        "try:\n",
        "  raise TypeError\n",
        "except: #任何錯誤\n",
        "  print(\"出錯了\")\n",
        "\n",
        "print(\"應用程式結束\")"
      ],
      "metadata": {
        "colab": {
          "base_uri": "https://localhost:8080/"
        },
        "id": "lcJuvMmkBTWv",
        "outputId": "f9c7b1ea-d700-42e7-b01d-74115efc6683"
      },
      "execution_count": 15,
      "outputs": [
        {
          "output_type": "stream",
          "name": "stdout",
          "text": [
            "出錯了\n",
            "應用程式結束\n"
          ]
        }
      ]
    },
    {
      "cell_type": "markdown",
      "source": [
        "- 可以多個except程式區塊\n",
        "- except程式區塊只執行一個後,跳出try_except\n",
        "- except(所有錯誤,一定要放在最後面)"
      ],
      "metadata": {
        "id": "dJgWEaX4Dz4c"
      }
    },
    {
      "cell_type": "code",
      "source": [
        "try:\n",
        "  raise NameError\n",
        "except TypeError: #指定錯誤\n",
        "  print(\"資料類型出錯了!\")\n",
        "except ValueError: #指定錯誤\n",
        "  print(\"值出錯了\")\n",
        "except:\n",
        "  print(\"出錯了\")\n",
        "\n",
        "print(\"應用程式結束\")"
      ],
      "metadata": {
        "colab": {
          "base_uri": "https://localhost:8080/"
        },
        "id": "rsNy614PCauX",
        "outputId": "0be2d120-32a9-459a-fa38-622c3a03cb3e"
      },
      "execution_count": 20,
      "outputs": [
        {
          "output_type": "stream",
          "name": "stdout",
          "text": [
            "出錯了\n",
            "應用程式結束\n"
          ]
        }
      ]
    },
    {
      "cell_type": "code",
      "source": [
        "try:\n",
        "  #money = int(input(\"請輸入金額:\"))\n",
        "  raise Exception(\"您停太久了,給你錯誤\") #自訂一個錯誤並加上錯誤說明\n",
        "except TypeError: #指定錯誤\n",
        "  print(\"資料類型出錯了!\")\n",
        "except ValueError: #指定錯誤\n",
        "  print(\"值出錯了\")\n",
        "except Exception as e: #所有錯誤\n",
        "  print(f\"出錯了:{e}\")\n",
        "\n",
        "print(\"應用程式結束\")"
      ],
      "metadata": {
        "id": "LsFh-MPAFD7N",
        "outputId": "2e5ba159-de03-4445-e078-afbbf7d96cad",
        "colab": {
          "base_uri": "https://localhost:8080/"
        }
      },
      "execution_count": 26,
      "outputs": [
        {
          "output_type": "stream",
          "name": "stdout",
          "text": [
            "出錯了:您停太久了,給你錯誤\n",
            "應用程式結束\n"
          ]
        }
      ]
    }
  ]
}