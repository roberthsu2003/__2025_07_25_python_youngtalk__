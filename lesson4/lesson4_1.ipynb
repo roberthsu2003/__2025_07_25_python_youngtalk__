{
  "nbformat": 4,
  "nbformat_minor": 0,
  "metadata": {
    "colab": {
      "provenance": [],
      "authorship_tag": "ABX9TyOquCNmAPRD8Nqa+q41QAiS",
      "include_colab_link": true
    },
    "kernelspec": {
      "name": "python3",
      "display_name": "Python 3"
    },
    "language_info": {
      "name": "python"
    }
  },
  "cells": [
    {
      "cell_type": "markdown",
      "metadata": {
        "id": "view-in-github",
        "colab_type": "text"
      },
      "source": [
        "<a href=\"https://colab.research.google.com/github/roberthsu2003/__2025_07_25_python_youngtalk__/blob/main/lesson4/lesson4_1.ipynb\" target=\"_parent\"><img src=\"https://colab.research.google.com/assets/colab-badge.svg\" alt=\"Open In Colab\"/></a>"
      ]
    },
    {
      "cell_type": "code",
      "execution_count": 3,
      "metadata": {
        "id": "Sgc6sy1A26jL",
        "outputId": "bd65e5a8-8a4f-4f21-e1be-ae0139839f22",
        "colab": {
          "base_uri": "https://localhost:8080/"
        }
      },
      "outputs": [
        {
          "output_type": "stream",
          "name": "stdout",
          "text": [
            "請輸入身高(cm)178\n",
            "請輸入體重(kg)90\n",
            "你的身高為:178.0,你的體重為:90.0,你的BMI為:28.41\n"
          ]
        }
      ],
      "source": [
        "height = float(input(\"請輸入身高(cm)\"))\n",
        "weight = float(input(\"請輸入體重(kg)\"))\n",
        "BMI = weight / (height/100) ** 2\n",
        "\n",
        "print (f\"你的身高為:{height},你的體重為:{weight},你的BMI為:{BMI:.2f}\")\n"
      ]
    },
    {
      "cell_type": "code",
      "source": [
        "#學生總分為300\n",
        "#要檢查學生輸入的分數,是否是0~300\n",
        "#有些學生可以加分5%\n",
        "#學生分數加分後,不可以超過300\n",
        "\n",
        "scores = int(input(\"請輸入學生分數(最高300分):\"))\n",
        "if scores >=0 and scores <=300:\n",
        "  is_add = input(\"學生是否符合加分條件?(y,n)\")\n",
        "\n",
        "  #巢狀判斷,處理2個條件\n",
        "  if is_add==\"y\":\n",
        "    scores *= 1.05\n",
        "    if scores > 300:\n",
        "      scores = 300\n",
        "\n",
        "  print(round(scores))\n",
        "else:\n",
        "  print(\"輸入的範圍,必需在0~300之間\")\n",
        "\n",
        "print(\"應用程式結束\")"
      ],
      "metadata": {
        "id": "eteE4hLk8MfK",
        "outputId": "bb94a378-12c1-430d-b276-e5a74d3063e3",
        "colab": {
          "base_uri": "https://localhost:8080/"
        }
      },
      "execution_count": 5,
      "outputs": [
        {
          "output_type": "stream",
          "name": "stdout",
          "text": [
            "請輸入學生分數(最高300分):290\n",
            "學生是否符合加分條件?(y,n)y\n",
            "300\n",
            "應用程式結束\n"
          ]
        }
      ]
    }
  ]
}