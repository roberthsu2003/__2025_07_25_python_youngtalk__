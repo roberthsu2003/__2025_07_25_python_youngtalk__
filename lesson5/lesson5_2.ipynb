{
  "nbformat": 4,
  "nbformat_minor": 0,
  "metadata": {
    "colab": {
      "provenance": [],
      "authorship_tag": "ABX9TyMisKMBH03N9MxxGYRQPHLY",
      "include_colab_link": true
    },
    "kernelspec": {
      "name": "python3",
      "display_name": "Python 3"
    },
    "language_info": {
      "name": "python"
    }
  },
  "cells": [
    {
      "cell_type": "markdown",
      "metadata": {
        "id": "view-in-github",
        "colab_type": "text"
      },
      "source": [
        "<a href=\"https://colab.research.google.com/github/roberthsu2003/__2025_07_25_python_youngtalk__/blob/main/lesson5/lesson5_2.ipynb\" target=\"_parent\"><img src=\"https://colab.research.google.com/assets/colab-badge.svg\" alt=\"Open In Colab\"/></a>"
      ]
    },
    {
      "cell_type": "code",
      "execution_count": 3,
      "metadata": {
        "id": "lxXdmswul1ud",
        "outputId": "234516f4-bbed-4052-9ba9-3853da982d87",
        "colab": {
          "base_uri": "https://localhost:8080/"
        }
      },
      "outputs": [
        {
          "output_type": "stream",
          "name": "stdout",
          "text": [
            "請輸入第1個月份的存款:1\n",
            "請輸入第2個月份的存款:1\n",
            "請輸入第3個月份的存款:10000\n",
            "請輸入第4個月份的存款:10000\n",
            "請輸入第5個月份的存款:10000\n",
            "恭喜!已經存了5月,共存了30002元\n"
          ]
        }
      ],
      "source": [
        "#小明想要存錢買一輛機車,機車每輛30000元，他將每月存的錢輸入，當存款足夠買機車時，就顯示提示訊息告知。\n",
        "\n",
        "deposit = 0\n",
        "count = 0\n",
        "while(deposit < 30000):\n",
        "  count += 1\n",
        "  input_value = int(input(f\"請輸入第{count}個月份的存款:\"))\n",
        "  deposit += input_value\n",
        "\n",
        "print(f\"恭喜!已經存了{count}月,共存了{deposit}元\")"
      ]
    }
  ]
}