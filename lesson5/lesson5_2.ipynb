{
  "nbformat": 4,
  "nbformat_minor": 0,
  "metadata": {
    "colab": {
      "provenance": [],
      "authorship_tag": "ABX9TyPhxns1siboDrD1PQywutfU",
      "include_colab_link": true
    },
    "kernelspec": {
      "name": "python3",
      "display_name": "Python 3"
    },
    "language_info": {
      "name": "python"
    }
  },
  "cells": [
    {
      "cell_type": "markdown",
      "metadata": {
        "id": "view-in-github",
        "colab_type": "text"
      },
      "source": [
        "<a href=\"https://colab.research.google.com/github/roberthsu2003/__2025_07_25_python_youngtalk__/blob/main/lesson5/lesson5_2.ipynb\" target=\"_parent\"><img src=\"https://colab.research.google.com/assets/colab-badge.svg\" alt=\"Open In Colab\"/></a>"
      ]
    },
    {
      "cell_type": "code",
      "execution_count": 3,
      "metadata": {
        "id": "lxXdmswul1ud",
        "colab": {
          "base_uri": "https://localhost:8080/"
        },
        "outputId": "234516f4-bbed-4052-9ba9-3853da982d87"
      },
      "outputs": [
        {
          "output_type": "stream",
          "name": "stdout",
          "text": [
            "請輸入第1個月份的存款:1\n",
            "請輸入第2個月份的存款:1\n",
            "請輸入第3個月份的存款:10000\n",
            "請輸入第4個月份的存款:10000\n",
            "請輸入第5個月份的存款:10000\n",
            "恭喜!已經存了5月,共存了30002元\n"
          ]
        }
      ],
      "source": [
        "#小明想要存錢買一輛機車,機車每輛30000元，他將每月存的錢輸入，當存款足夠買機車時，就顯示提示訊息告知。\n",
        "\n",
        "deposit = 0\n",
        "count = 0\n",
        "while(deposit < 30000):\n",
        "  count += 1\n",
        "  input_value = int(input(f\"請輸入第{count}個月份的存款:\"))\n",
        "  deposit += input_value\n",
        "\n",
        "print(f\"恭喜!已經存了{count}月,共存了{deposit}元\")"
      ]
    },
    {
      "cell_type": "code",
      "source": [
        "#小明想要存錢買一輛機車,機車每輛30000元，他將每月存的錢輸入，當存款足夠買機車時，就顯示提示訊息告知。\n",
        "\n",
        "deposit = 0\n",
        "count = 0\n",
        "while(True):\n",
        "  count += 1\n",
        "  input_value = int(input(f\"請輸入第{count}個月份的存款:\"))\n",
        "  deposit += input_value\n",
        "  if deposit >= 30000:\n",
        "    break\n",
        "\n",
        "print(f\"恭喜!已經存了{count}月,共存了{deposit}元\")"
      ],
      "metadata": {
        "colab": {
          "base_uri": "https://localhost:8080/"
        },
        "id": "laWNnm7LqHci",
        "outputId": "eae7c64d-f756-4616-954f-24baf3d7204b"
      },
      "execution_count": 4,
      "outputs": [
        {
          "output_type": "stream",
          "name": "stdout",
          "text": [
            "請輸入第1個月份的存款:1\n",
            "請輸入第2個月份的存款:2\n",
            "請輸入第3個月份的存款:10000\n",
            "請輸入第4個月份的存款:10000\n",
            "請輸入第5個月份的存款:10000\n",
            "恭喜!已經存了5月,共存了30003元\n"
          ]
        }
      ]
    },
    {
      "cell_type": "code",
      "source": [
        "while(True):\n",
        "  try:\n",
        "    height = int(input(\"請輸入身高(100~250):\"))\n",
        "    if height < 100 or height > 250:\n",
        "      print(\"範圍錯誤,請重新輸入\")\n",
        "      continue\n",
        "    else:\n",
        "      break\n",
        "  except ValueError:\n",
        "    print(\"格式錯誤!請重新輸入\")\n",
        "  except Exception as e:\n",
        "    print(f\"{e},請重新輸入\")\n",
        "print(height)"
      ],
      "metadata": {
        "colab": {
          "base_uri": "https://localhost:8080/"
        },
        "id": "KSb57gSVrer6",
        "outputId": "7aff1c4a-ad5e-4fe3-dfe4-98ed1a840338"
      },
      "execution_count": 7,
      "outputs": [
        {
          "output_type": "stream",
          "name": "stdout",
          "text": [
            "請輸入身高(100~250):170\n",
            "170\n"
          ]
        }
      ]
    }
  ]
}