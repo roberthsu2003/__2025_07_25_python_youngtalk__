{
  "nbformat": 4,
  "nbformat_minor": 0,
  "metadata": {
    "colab": {
      "provenance": [],
      "authorship_tag": "ABX9TyPxik7FUl51NUZ99Jxg1qNl",
      "include_colab_link": true
    },
    "kernelspec": {
      "name": "python3",
      "display_name": "Python 3"
    },
    "language_info": {
      "name": "python"
    }
  },
  "cells": [
    {
      "cell_type": "markdown",
      "metadata": {
        "id": "view-in-github",
        "colab_type": "text"
      },
      "source": [
        "<a href=\"https://colab.research.google.com/github/roberthsu2003/__2025_07_25_python_youngtalk__/blob/main/lesson5/lesson5_1.ipynb\" target=\"_parent\"><img src=\"https://colab.research.google.com/assets/colab-badge.svg\" alt=\"Open In Colab\"/></a>"
      ]
    },
    {
      "cell_type": "markdown",
      "source": [
        "_**BMI**_"
      ],
      "metadata": {
        "id": "eULoz3SULizM"
      }
    },
    {
      "cell_type": "code",
      "execution_count": null,
      "metadata": {
        "colab": {
          "base_uri": "https://localhost:8080/"
        },
        "id": "RvJh3WdzLcxJ",
        "outputId": "8717c05f-a6fb-4ba8-a2fc-3dbe4e69ba16"
      },
      "outputs": [
        {
          "output_type": "stream",
          "name": "stdout",
          "text": [
            "======= 計算BMI ======= \n",
            "\n",
            "輸入體重(kg)85\n",
            "輸入身高(cm)178\n",
            "\n",
            "\n",
            "=======結果=======\n",
            "\n",
            "體重:85.0\n",
            "身高:178.0\n",
            "BMI:26.83\n",
            "\n",
            "體重過重\n",
            "建議體重範圍:58.6~76.0\n"
          ]
        }
      ],
      "source": [
        "print(\"=\" * 7 ,\"計算BMI\", \"=\" * 7 ,\"\\n\")\n",
        "try:\n",
        "  weight = float(input(\"輸入體重(kg)\"))\n",
        "  height = float(input(\"輸入身高(cm)\"))\n",
        "  if weight <= 0 or height <= 0:\n",
        "    raise Exception(\"輸入的數值需大於零\")\n",
        "\n",
        "  bmi = weight / (height/100) ** 2\n",
        "  #print(\"\\n\\n\"+\"=\" * 7+\"結果\"+\"=\" * 7+f\"\\n\\n體重:{weight:.1f}\\n身高:{height:.1f}\\nBMI:{bmi:.2f}\")\n",
        "  print(f\"\"\"\n",
        "\n",
        "=======結果=======\n",
        "\n",
        "體重:{weight:.1f}\n",
        "身高:{height:.1f}\n",
        "BMI:{bmi:.2f}\n",
        "\"\"\")\n",
        "\n",
        "  if bmi < 18.5:\n",
        "    print(\"體重過輕\")\n",
        "  elif bmi < 24:\n",
        "    print(\"體重正常\")\n",
        "  elif bmi < 27:\n",
        "    print(\"體重過重\")\n",
        "  elif bmi < 30:\n",
        "    print(\"輕度肥胖\")\n",
        "  elif bmi < 35:\n",
        "    print(\"中度肥胖\")\n",
        "  else:\n",
        "    print(\"重度肥胖\")\n",
        "  if not (bmi >=18.5 and bmi < 24):\n",
        "    max = 24 * (height/100) ** 2\n",
        "    min = 18.5 * (height/100) ** 2\n",
        "    print(f\"建議體重範圍:{min:.1f}~{max:.1f}\")\n",
        "\n",
        "except ValueError:\n",
        "  print(\"輸入內容錯誤\")\n",
        "except Exception as e:\n",
        "  print(e)"
      ]
    },
    {
      "cell_type": "code",
      "source": [
        "total = 0\n",
        "total += 1\n",
        "total += 2\n",
        "total += 3\n",
        "total += 4\n",
        "total += 5\n",
        "total += 6\n",
        "total += 7\n",
        "total += 8\n",
        "total += 9\n",
        "total += 10\n",
        "total"
      ],
      "metadata": {
        "id": "yHGxorT1QjMj",
        "outputId": "aa92120e-3385-42b4-c5b7-a3ca1ea4cbd4",
        "colab": {
          "base_uri": "https://localhost:8080/"
        }
      },
      "execution_count": 1,
      "outputs": [
        {
          "output_type": "execute_result",
          "data": {
            "text/plain": [
              "55"
            ]
          },
          "metadata": {},
          "execution_count": 1
        }
      ]
    },
    {
      "cell_type": "code",
      "source": [
        "for word in \"Apple\":\n",
        "  print(word)"
      ],
      "metadata": {
        "id": "cM4QQMCVTSen",
        "outputId": "16a4d394-fffb-4a72-fac2-54198025caa2",
        "colab": {
          "base_uri": "https://localhost:8080/"
        }
      },
      "execution_count": 2,
      "outputs": [
        {
          "output_type": "stream",
          "name": "stdout",
          "text": [
            "A\n",
            "p\n",
            "p\n",
            "l\n",
            "e\n"
          ]
        }
      ]
    }
  ]
}