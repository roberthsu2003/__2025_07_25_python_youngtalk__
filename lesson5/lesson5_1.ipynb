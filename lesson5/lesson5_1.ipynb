{
  "nbformat": 4,
  "nbformat_minor": 0,
  "metadata": {
    "colab": {
      "provenance": [],
      "authorship_tag": "ABX9TyNN9SrQKPTOYqaOtdyz1ht0",
      "include_colab_link": true
    },
    "kernelspec": {
      "name": "python3",
      "display_name": "Python 3"
    },
    "language_info": {
      "name": "python"
    }
  },
  "cells": [
    {
      "cell_type": "markdown",
      "metadata": {
        "id": "view-in-github",
        "colab_type": "text"
      },
      "source": [
        "<a href=\"https://colab.research.google.com/github/roberthsu2003/__2025_07_25_python_youngtalk__/blob/main/lesson5/lesson5_1.ipynb\" target=\"_parent\"><img src=\"https://colab.research.google.com/assets/colab-badge.svg\" alt=\"Open In Colab\"/></a>"
      ]
    },
    {
      "cell_type": "markdown",
      "source": [
        "_**BMI**_"
      ],
      "metadata": {
        "id": "eULoz3SULizM"
      }
    },
    {
      "cell_type": "code",
      "execution_count": null,
      "metadata": {
        "colab": {
          "base_uri": "https://localhost:8080/"
        },
        "id": "RvJh3WdzLcxJ",
        "outputId": "8717c05f-a6fb-4ba8-a2fc-3dbe4e69ba16"
      },
      "outputs": [
        {
          "output_type": "stream",
          "name": "stdout",
          "text": [
            "======= 計算BMI ======= \n",
            "\n",
            "輸入體重(kg)85\n",
            "輸入身高(cm)178\n",
            "\n",
            "\n",
            "=======結果=======\n",
            "\n",
            "體重:85.0\n",
            "身高:178.0\n",
            "BMI:26.83\n",
            "\n",
            "體重過重\n",
            "建議體重範圍:58.6~76.0\n"
          ]
        }
      ],
      "source": [
        "print(\"=\" * 7 ,\"計算BMI\", \"=\" * 7 ,\"\\n\")\n",
        "try:\n",
        "  weight = float(input(\"輸入體重(kg)\"))\n",
        "  height = float(input(\"輸入身高(cm)\"))\n",
        "  if weight <= 0 or height <= 0:\n",
        "    raise Exception(\"輸入的數值需大於零\")\n",
        "\n",
        "  bmi = weight / (height/100) ** 2\n",
        "  #print(\"\\n\\n\"+\"=\" * 7+\"結果\"+\"=\" * 7+f\"\\n\\n體重:{weight:.1f}\\n身高:{height:.1f}\\nBMI:{bmi:.2f}\")\n",
        "  print(f\"\"\"\n",
        "\n",
        "=======結果=======\n",
        "\n",
        "體重:{weight:.1f}\n",
        "身高:{height:.1f}\n",
        "BMI:{bmi:.2f}\n",
        "\"\"\")\n",
        "\n",
        "  if bmi < 18.5:\n",
        "    print(\"體重過輕\")\n",
        "  elif bmi < 24:\n",
        "    print(\"體重正常\")\n",
        "  elif bmi < 27:\n",
        "    print(\"體重過重\")\n",
        "  elif bmi < 30:\n",
        "    print(\"輕度肥胖\")\n",
        "  elif bmi < 35:\n",
        "    print(\"中度肥胖\")\n",
        "  else:\n",
        "    print(\"重度肥胖\")\n",
        "  if not (bmi >=18.5 and bmi < 24):\n",
        "    max = 24 * (height/100) ** 2\n",
        "    min = 18.5 * (height/100) ** 2\n",
        "    print(f\"建議體重範圍:{min:.1f}~{max:.1f}\")\n",
        "\n",
        "except ValueError:\n",
        "  print(\"輸入內容錯誤\")\n",
        "except Exception as e:\n",
        "  print(e)"
      ]
    },
    {
      "cell_type": "code",
      "source": [
        "total = 0\n",
        "total += 1\n",
        "total += 2\n",
        "total += 3\n",
        "total += 4\n",
        "total += 5\n",
        "total += 6\n",
        "total += 7\n",
        "total += 8\n",
        "total += 9\n",
        "total += 10\n",
        "total"
      ],
      "metadata": {
        "colab": {
          "base_uri": "https://localhost:8080/"
        },
        "id": "yHGxorT1QjMj",
        "outputId": "aa92120e-3385-42b4-c5b7-a3ca1ea4cbd4"
      },
      "execution_count": 1,
      "outputs": [
        {
          "output_type": "execute_result",
          "data": {
            "text/plain": [
              "55"
            ]
          },
          "metadata": {},
          "execution_count": 1
        }
      ]
    },
    {
      "cell_type": "code",
      "source": [
        "for word in \"Apple\":\n",
        "  print(word)"
      ],
      "metadata": {
        "colab": {
          "base_uri": "https://localhost:8080/"
        },
        "id": "cM4QQMCVTSen",
        "outputId": "16a4d394-fffb-4a72-fac2-54198025caa2"
      },
      "execution_count": 2,
      "outputs": [
        {
          "output_type": "stream",
          "name": "stdout",
          "text": [
            "A\n",
            "p\n",
            "p\n",
            "l\n",
            "e\n"
          ]
        }
      ]
    },
    {
      "cell_type": "code",
      "source": [
        "range(10)\n",
        "range(1,11)\n",
        "range(1,11,2)"
      ],
      "metadata": {
        "colab": {
          "base_uri": "https://localhost:8080/"
        },
        "id": "heOUC6fEVGo6",
        "outputId": "3f7d2da7-7b22-4d93-b099-535e343a6537"
      },
      "execution_count": 6,
      "outputs": [
        {
          "output_type": "execute_result",
          "data": {
            "text/plain": [
              "range(1, 11, 2)"
            ]
          },
          "metadata": {},
          "execution_count": 6
        }
      ]
    },
    {
      "cell_type": "code",
      "source": [
        "total = 0\n",
        "for i in range(1,101):\n",
        "  total += i\n",
        "total"
      ],
      "metadata": {
        "colab": {
          "base_uri": "https://localhost:8080/"
        },
        "id": "z69O49oZWkVF",
        "outputId": "1b279a94-3f0d-478a-c17b-dd4c4d8a11e2"
      },
      "execution_count": 8,
      "outputs": [
        {
          "output_type": "execute_result",
          "data": {
            "text/plain": [
              "5050"
            ]
          },
          "metadata": {},
          "execution_count": 8
        }
      ]
    },
    {
      "cell_type": "code",
      "source": [
        "for i in range(1,10):\n",
        "  for j in range(1,10):\n",
        "    print(f'{i:<2d}*{j:2d} = {i*j:2d}',end=\"   \")\n",
        "  print()"
      ],
      "metadata": {
        "colab": {
          "base_uri": "https://localhost:8080/"
        },
        "id": "Df1NYSmuXDK0",
        "outputId": "48188e12-b6a8-4c02-8532-26a13d5b27a8"
      },
      "execution_count": 24,
      "outputs": [
        {
          "output_type": "stream",
          "name": "stdout",
          "text": [
            "1 * 1 =  1   1 * 2 =  2   1 * 3 =  3   1 * 4 =  4   1 * 5 =  5   1 * 6 =  6   1 * 7 =  7   1 * 8 =  8   1 * 9 =  9   \n",
            "2 * 1 =  2   2 * 2 =  4   2 * 3 =  6   2 * 4 =  8   2 * 5 = 10   2 * 6 = 12   2 * 7 = 14   2 * 8 = 16   2 * 9 = 18   \n",
            "3 * 1 =  3   3 * 2 =  6   3 * 3 =  9   3 * 4 = 12   3 * 5 = 15   3 * 6 = 18   3 * 7 = 21   3 * 8 = 24   3 * 9 = 27   \n",
            "4 * 1 =  4   4 * 2 =  8   4 * 3 = 12   4 * 4 = 16   4 * 5 = 20   4 * 6 = 24   4 * 7 = 28   4 * 8 = 32   4 * 9 = 36   \n",
            "5 * 1 =  5   5 * 2 = 10   5 * 3 = 15   5 * 4 = 20   5 * 5 = 25   5 * 6 = 30   5 * 7 = 35   5 * 8 = 40   5 * 9 = 45   \n",
            "6 * 1 =  6   6 * 2 = 12   6 * 3 = 18   6 * 4 = 24   6 * 5 = 30   6 * 6 = 36   6 * 7 = 42   6 * 8 = 48   6 * 9 = 54   \n",
            "7 * 1 =  7   7 * 2 = 14   7 * 3 = 21   7 * 4 = 28   7 * 5 = 35   7 * 6 = 42   7 * 7 = 49   7 * 8 = 56   7 * 9 = 63   \n",
            "8 * 1 =  8   8 * 2 = 16   8 * 3 = 24   8 * 4 = 32   8 * 5 = 40   8 * 6 = 48   8 * 7 = 56   8 * 8 = 64   8 * 9 = 72   \n",
            "9 * 1 =  9   9 * 2 = 18   9 * 3 = 27   9 * 4 = 36   9 * 5 = 45   9 * 6 = 54   9 * 7 = 63   9 * 8 = 72   9 * 9 = 81   \n"
          ]
        }
      ]
    }
  ]
}