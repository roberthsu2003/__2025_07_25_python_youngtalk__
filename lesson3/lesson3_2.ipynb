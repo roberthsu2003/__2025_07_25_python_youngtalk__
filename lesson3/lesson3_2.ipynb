{
  "nbformat": 4,
  "nbformat_minor": 0,
  "metadata": {
    "colab": {
      "provenance": [],
      "authorship_tag": "ABX9TyPCxR6unkT/wgjf/ouNSLCN",
      "include_colab_link": true
    },
    "kernelspec": {
      "name": "python3",
      "display_name": "Python 3"
    },
    "language_info": {
      "name": "python"
    }
  },
  "cells": [
    {
      "cell_type": "markdown",
      "metadata": {
        "id": "view-in-github",
        "colab_type": "text"
      },
      "source": [
        "<a href=\"https://colab.research.google.com/github/roberthsu2003/__2025_07_25_python_youngtalk__/blob/main/lesson3/lesson3_2.ipynb\" target=\"_parent\"><img src=\"https://colab.research.google.com/assets/colab-badge.svg\" alt=\"Open In Colab\"/></a>"
      ]
    },
    {
      "cell_type": "code",
      "execution_count": 3,
      "metadata": {
        "id": "BjKgqon1-Vo2",
        "outputId": "13789997-91f1-4b2d-cead-1d426ca40869",
        "colab": {
          "base_uri": "https://localhost:8080/"
        }
      },
      "outputs": [
        {
          "output_type": "execute_result",
          "data": {
            "text/plain": [
              "True"
            ]
          },
          "metadata": {},
          "execution_count": 3
        }
      ],
      "source": [
        "5 == 5\n",
        "5 > 5\n",
        "5 >= 5"
      ]
    },
    {
      "cell_type": "code",
      "source": [
        "score = int(input(\"請輸入分數:\"))\n",
        "if score >= 60:\n",
        "  print(f\"您的分數是:{score}\")\n",
        "  print(\"您及格了\")\n",
        "else:\n",
        "  print(f\"您的分數是:{score}\")\n",
        "  print(\"您不及格了\")\n",
        "\n",
        "print(\"應用程式結束\")"
      ],
      "metadata": {
        "id": "r8U-rnrr_ENC",
        "outputId": "cacba833-37ce-4b1f-8bb0-c900f2ad85b9",
        "colab": {
          "base_uri": "https://localhost:8080/"
        }
      },
      "execution_count": 6,
      "outputs": [
        {
          "output_type": "stream",
          "name": "stdout",
          "text": [
            "請輸入分數:59\n",
            "您的分數是:59\n",
            "您不及格了\n",
            "應用程式結束\n"
          ]
        }
      ]
    }
  ]
}