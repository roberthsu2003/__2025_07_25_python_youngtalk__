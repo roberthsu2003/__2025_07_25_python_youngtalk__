{
  "nbformat": 4,
  "nbformat_minor": 0,
  "metadata": {
    "colab": {
      "provenance": [],
      "authorship_tag": "ABX9TyPqgcWSVhuHJgXMixi9kCOo",
      "include_colab_link": true
    },
    "kernelspec": {
      "name": "python3",
      "display_name": "Python 3"
    },
    "language_info": {
      "name": "python"
    }
  },
  "cells": [
    {
      "cell_type": "markdown",
      "metadata": {
        "id": "view-in-github",
        "colab_type": "text"
      },
      "source": [
        "<a href=\"https://colab.research.google.com/github/roberthsu2003/__2025_07_25_python_youngtalk__/blob/main/lesson3/lesson3_2.ipynb\" target=\"_parent\"><img src=\"https://colab.research.google.com/assets/colab-badge.svg\" alt=\"Open In Colab\"/></a>"
      ]
    },
    {
      "cell_type": "code",
      "execution_count": 3,
      "metadata": {
        "id": "BjKgqon1-Vo2",
        "colab": {
          "base_uri": "https://localhost:8080/"
        },
        "outputId": "13789997-91f1-4b2d-cead-1d426ca40869"
      },
      "outputs": [
        {
          "output_type": "execute_result",
          "data": {
            "text/plain": [
              "True"
            ]
          },
          "metadata": {},
          "execution_count": 3
        }
      ],
      "source": [
        "5 == 5\n",
        "5 > 5\n",
        "5 >= 5"
      ]
    },
    {
      "cell_type": "code",
      "source": [
        "score = int(input(\"請輸入分數:\"))\n",
        "if score >= 60:\n",
        "  print(f\"您的分數是:{score}\")\n",
        "  print(\"您及格了\")\n",
        "else:\n",
        "  print(f\"您的分數是:{score}\")\n",
        "  print(\"您不及格了\")\n",
        "\n",
        "print(\"應用程式結束\")"
      ],
      "metadata": {
        "colab": {
          "base_uri": "https://localhost:8080/"
        },
        "id": "r8U-rnrr_ENC",
        "outputId": "cacba833-37ce-4b1f-8bb0-c900f2ad85b9"
      },
      "execution_count": 6,
      "outputs": [
        {
          "output_type": "stream",
          "name": "stdout",
          "text": [
            "請輸入分數:59\n",
            "您的分數是:59\n",
            "您不及格了\n",
            "應用程式結束\n"
          ]
        }
      ]
    },
    {
      "cell_type": "code",
      "source": [
        "#學生總分為300\n",
        "#有些學生可以加分5%\n",
        "\n",
        "scores = int(input(\"請輸入學生分數(最高300分):\"))\n",
        "is_add = input(\"學生是否符合加分條件?(y,n)\")\n",
        "\n",
        "if is_add==\"y\":\n",
        "  scores *= 1.05\n",
        "\n",
        "print(round(scores))"
      ],
      "metadata": {
        "colab": {
          "base_uri": "https://localhost:8080/"
        },
        "id": "EQQFuTsvDM1s",
        "outputId": "40e22d26-050e-46a7-a65e-7901584d614a"
      },
      "execution_count": 8,
      "outputs": [
        {
          "output_type": "stream",
          "name": "stdout",
          "text": [
            "請輸入學生分數(最高300分):250\n",
            "學生是否符合加分條件?(y,n)y\n",
            "262\n"
          ]
        }
      ]
    },
    {
      "cell_type": "code",
      "source": [
        "#學生總分為300\n",
        "#有些學生可以加分5%\n",
        "#學生分數加分後,不可以超過300\n",
        "\n",
        "scores = int(input(\"請輸入學生分數(最高300分):\"))\n",
        "is_add = input(\"學生是否符合加分條件?(y,n)\")\n",
        "\n",
        "#巢狀判斷,處理2個條件\n",
        "if is_add==\"y\":\n",
        "  scores *= 1.05\n",
        "  if scores > 300:\n",
        "    scores = 300\n",
        "\n",
        "print(round(scores))"
      ],
      "metadata": {
        "id": "fYwPLzP5FiF6",
        "outputId": "f70cbe43-485e-4807-c8ad-5803bd13e6b2",
        "colab": {
          "base_uri": "https://localhost:8080/"
        }
      },
      "execution_count": 10,
      "outputs": [
        {
          "output_type": "stream",
          "name": "stdout",
          "text": [
            "請輸入學生分數(最高300分):250\n",
            "學生是否符合加分條件?(y,n)y\n",
            "262\n"
          ]
        }
      ]
    }
  ]
}