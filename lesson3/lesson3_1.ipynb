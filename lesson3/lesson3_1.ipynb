{
  "nbformat": 4,
  "nbformat_minor": 0,
  "metadata": {
    "colab": {
      "provenance": [],
      "authorship_tag": "ABX9TyOoGD7JybeLTlFS9QzuUf/d",
      "include_colab_link": true
    },
    "kernelspec": {
      "name": "python3",
      "display_name": "Python 3"
    },
    "language_info": {
      "name": "python"
    }
  },
  "cells": [
    {
      "cell_type": "markdown",
      "metadata": {
        "id": "view-in-github",
        "colab_type": "text"
      },
      "source": [
        "<a href=\"https://colab.research.google.com/github/roberthsu2003/__2025_07_25_python_youngtalk__/blob/main/lesson3/lesson3_1.ipynb\" target=\"_parent\"><img src=\"https://colab.research.google.com/assets/colab-badge.svg\" alt=\"Open In Colab\"/></a>"
      ]
    },
    {
      "cell_type": "code",
      "execution_count": 2,
      "metadata": {
        "id": "H4QTmwRRkcKw",
        "colab": {
          "base_uri": "https://localhost:8080/"
        },
        "outputId": "b1029075-2b7b-4a0f-806c-6bb359b58331"
      },
      "outputs": [
        {
          "output_type": "stream",
          "name": "stdout",
          "text": [
            "請輸入上底:4.567\n",
            "請輸入下底:6.897\n",
            "請輸入高:3.219\n",
            "\n",
            "======答案是=========\n",
            "\n",
            "上底:4.567\n",
            "下底:6.897\n",
            "高:3.219\n",
            "梯形的面積:18.45\n"
          ]
        }
      ],
      "source": [
        "#讓使用者輸入梯形的上底、下底及高，程式會計算梯形的面積(上底加下底乘以高除以2)\n",
        "top = float(input(\"請輸入上底:\"))\n",
        "bottom = float(input(\"請輸入下底:\"))\n",
        "height = float(input(\"請輸入高:\"))\n",
        "area = (top + bottom) * height / 2\n",
        "\n",
        "print(\"\\n======答案是=========\",end=\"\\n\\n\")\n",
        "print(\"上底:\", top,sep=\"\")\n",
        "print(\"下底:\", bottom,sep=\"\")\n",
        "print(\"高:\", height,sep=\"\")\n",
        "print(\"梯形的面積:\", round(area,ndigits=2),sep=\"\")"
      ]
    },
    {
      "cell_type": "markdown",
      "source": [
        "### 複合指定運算子\n",
        "- +=\n",
        "- \\*=\n",
        "- /=\n",
        "- //=\n",
        "- \\-=\n",
        "- %=\n",
        "- \\**="
      ],
      "metadata": {
        "id": "NGTAVWfrp6cc"
      }
    },
    {
      "cell_type": "code",
      "source": [
        "n = 20\n",
        "n + 10\n",
        "n"
      ],
      "metadata": {
        "colab": {
          "base_uri": "https://localhost:8080/"
        },
        "id": "JoexbFI0qcwm",
        "outputId": "6069574c-6967-4ad5-d0a0-13e7031f4b81"
      },
      "execution_count": 3,
      "outputs": [
        {
          "output_type": "execute_result",
          "data": {
            "text/plain": [
              "20"
            ]
          },
          "metadata": {},
          "execution_count": 3
        }
      ]
    },
    {
      "cell_type": "code",
      "source": [
        "n = 20\n",
        "n = n + 10\n",
        "n"
      ],
      "metadata": {
        "colab": {
          "base_uri": "https://localhost:8080/"
        },
        "id": "mKgP09HOrJok",
        "outputId": "09798233-4830-4735-83f9-7f74762ab30e"
      },
      "execution_count": 4,
      "outputs": [
        {
          "output_type": "execute_result",
          "data": {
            "text/plain": [
              "30"
            ]
          },
          "metadata": {},
          "execution_count": 4
        }
      ]
    },
    {
      "cell_type": "code",
      "source": [
        "n = 20\n",
        "n += 10\n",
        "n"
      ],
      "metadata": {
        "id": "arh6Oy3wrhI1"
      },
      "execution_count": null,
      "outputs": []
    },
    {
      "cell_type": "code",
      "source": [
        "#請以(複合指定運算子)設計程式,讓用者輸入三個任意數，程式會顯示3數相加的總和(float)\n",
        "\n",
        "total = 0\n",
        "print(type(total))\n",
        "value = float(input(\"請輸入第1個數:\"))\n",
        "total += value\n",
        "value = float(input(\"請輸入第2個數:\"))\n",
        "total += value\n",
        "value = float(input(\"請輸入第3個數:\"))\n",
        "total += value\n",
        "\n",
        "print(\"3數相加的值為\",total,sep='')"
      ],
      "metadata": {
        "id": "IPNQhJ6ys5u1",
        "outputId": "42dc5f9b-42c4-48c2-fa61-f313617c72d1",
        "colab": {
          "base_uri": "https://localhost:8080/"
        }
      },
      "execution_count": 7,
      "outputs": [
        {
          "output_type": "stream",
          "name": "stdout",
          "text": [
            "<class 'int'>\n",
            "請輸入第1個數:1\n",
            "請輸入第2個數:2\n",
            "請輸入第3個數:3\n",
            "3數相加的值為6.0\n"
          ]
        }
      ]
    }
  ]
}