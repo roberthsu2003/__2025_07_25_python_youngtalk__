{
  "nbformat": 4,
  "nbformat_minor": 0,
  "metadata": {
    "colab": {
      "provenance": [],
      "authorship_tag": "ABX9TyPO/eMB9uALN/MW1lF7O0Cd",
      "include_colab_link": true
    },
    "kernelspec": {
      "name": "python3",
      "display_name": "Python 3"
    },
    "language_info": {
      "name": "python"
    }
  },
  "cells": [
    {
      "cell_type": "markdown",
      "metadata": {
        "id": "view-in-github",
        "colab_type": "text"
      },
      "source": [
        "<a href=\"https://colab.research.google.com/github/roberthsu2003/__2025_07_25_python_youngtalk__/blob/main/lesson3/lesson3_1.ipynb\" target=\"_parent\"><img src=\"https://colab.research.google.com/assets/colab-badge.svg\" alt=\"Open In Colab\"/></a>"
      ]
    },
    {
      "cell_type": "code",
      "execution_count": 2,
      "metadata": {
        "id": "H4QTmwRRkcKw",
        "colab": {
          "base_uri": "https://localhost:8080/"
        },
        "outputId": "b1029075-2b7b-4a0f-806c-6bb359b58331"
      },
      "outputs": [
        {
          "output_type": "stream",
          "name": "stdout",
          "text": [
            "請輸入上底:4.567\n",
            "請輸入下底:6.897\n",
            "請輸入高:3.219\n",
            "\n",
            "======答案是=========\n",
            "\n",
            "上底:4.567\n",
            "下底:6.897\n",
            "高:3.219\n",
            "梯形的面積:18.45\n"
          ]
        }
      ],
      "source": [
        "#讓使用者輸入梯形的上底、下底及高，程式會計算梯形的面積(上底加下底乘以高除以2)\n",
        "top = float(input(\"請輸入上底:\"))\n",
        "bottom = float(input(\"請輸入下底:\"))\n",
        "height = float(input(\"請輸入高:\"))\n",
        "area = (top + bottom) * height / 2\n",
        "\n",
        "print(\"\\n======答案是=========\",end=\"\\n\\n\")\n",
        "print(\"上底:\", top,sep=\"\")\n",
        "print(\"下底:\", bottom,sep=\"\")\n",
        "print(\"高:\", height,sep=\"\")\n",
        "print(\"梯形的面積:\", round(area,ndigits=2),sep=\"\")"
      ]
    },
    {
      "cell_type": "markdown",
      "source": [
        "### 複合指定運算子\n",
        "- +=\n",
        "- \\*=\n",
        "- /=\n",
        "- //=\n",
        "- \\-=\n",
        "- %=\n",
        "- \\**="
      ],
      "metadata": {
        "id": "NGTAVWfrp6cc"
      }
    },
    {
      "cell_type": "code",
      "source": [
        "n = 20\n",
        "n + 10\n",
        "n"
      ],
      "metadata": {
        "colab": {
          "base_uri": "https://localhost:8080/"
        },
        "id": "JoexbFI0qcwm",
        "outputId": "6069574c-6967-4ad5-d0a0-13e7031f4b81"
      },
      "execution_count": 3,
      "outputs": [
        {
          "output_type": "execute_result",
          "data": {
            "text/plain": [
              "20"
            ]
          },
          "metadata": {},
          "execution_count": 3
        }
      ]
    },
    {
      "cell_type": "code",
      "source": [
        "n = 20\n",
        "n = n + 10\n",
        "n"
      ],
      "metadata": {
        "colab": {
          "base_uri": "https://localhost:8080/"
        },
        "id": "mKgP09HOrJok",
        "outputId": "09798233-4830-4735-83f9-7f74762ab30e"
      },
      "execution_count": 4,
      "outputs": [
        {
          "output_type": "execute_result",
          "data": {
            "text/plain": [
              "30"
            ]
          },
          "metadata": {},
          "execution_count": 4
        }
      ]
    },
    {
      "cell_type": "code",
      "source": [
        "n = 20\n",
        "n += 10\n",
        "n"
      ],
      "metadata": {
        "id": "arh6Oy3wrhI1"
      },
      "execution_count": null,
      "outputs": []
    },
    {
      "cell_type": "code",
      "source": [
        "#請以(複合指定運算子)設計程式,讓用者輸入三個任意數，程式會顯示3數相加的總和(float)\n",
        "\n",
        "total = 0\n",
        "print(type(total))\n",
        "value = float(input(\"請輸入第1個數:\"))\n",
        "total += value\n",
        "value = float(input(\"請輸入第2個數:\"))\n",
        "total += value\n",
        "value = float(input(\"請輸入第3個數:\"))\n",
        "total += value\n",
        "\n",
        "print(\"3數相加的值為\",total,sep='')"
      ],
      "metadata": {
        "colab": {
          "base_uri": "https://localhost:8080/"
        },
        "id": "IPNQhJ6ys5u1",
        "outputId": "42dc5f9b-42c4-48c2-fa61-f313617c72d1"
      },
      "execution_count": 7,
      "outputs": [
        {
          "output_type": "stream",
          "name": "stdout",
          "text": [
            "<class 'int'>\n",
            "請輸入第1個數:1\n",
            "請輸入第2個數:2\n",
            "請輸入第3個數:3\n",
            "3數相加的值為6.0\n"
          ]
        }
      ]
    },
    {
      "cell_type": "markdown",
      "source": [
        "## 字串的相加和相乘"
      ],
      "metadata": {
        "id": "YwdLg7Mmvqs6"
      }
    },
    {
      "cell_type": "code",
      "source": [
        "\"2048\" + \"遊戲\""
      ],
      "metadata": {
        "id": "F1ENkzspv1AY",
        "outputId": "199c5429-1a12-417f-bbde-bca73684b207",
        "colab": {
          "base_uri": "https://localhost:8080/",
          "height": 35
        }
      },
      "execution_count": 8,
      "outputs": [
        {
          "output_type": "execute_result",
          "data": {
            "text/plain": [
              "'2048遊戲'"
            ],
            "application/vnd.google.colaboratory.intrinsic+json": {
              "type": "string"
            }
          },
          "metadata": {},
          "execution_count": 8
        }
      ]
    },
    {
      "cell_type": "code",
      "source": [
        "\"=\" * 20"
      ],
      "metadata": {
        "id": "DKarGBAYwDMk",
        "outputId": "3af1a8c2-18cd-4466-c9d6-df1268547195",
        "colab": {
          "base_uri": "https://localhost:8080/",
          "height": 35
        }
      },
      "execution_count": 9,
      "outputs": [
        {
          "output_type": "execute_result",
          "data": {
            "text/plain": [
              "'===================='"
            ],
            "application/vnd.google.colaboratory.intrinsic+json": {
              "type": "string"
            }
          },
          "metadata": {},
          "execution_count": 9
        }
      ]
    },
    {
      "cell_type": "code",
      "source": [
        "apple = 20\n",
        "pipeapple = 10\n",
        "grap = 3\n",
        "\n",
        "\"apple有\" + str(apple) + \"顆,pipeapple有\" + str(pipeapple) + \"顆,grap有\" + str(grap) + \"串。\""
      ],
      "metadata": {
        "id": "2R3--Pz6wXNy",
        "outputId": "423f0c93-56aa-4872-e5a1-8a0d8dee58b2",
        "colab": {
          "base_uri": "https://localhost:8080/",
          "height": 35
        }
      },
      "execution_count": 10,
      "outputs": [
        {
          "output_type": "execute_result",
          "data": {
            "text/plain": [
              "'apple有20顆,pipeapple有10顆,grap有3串。'"
            ],
            "application/vnd.google.colaboratory.intrinsic+json": {
              "type": "string"
            }
          },
          "metadata": {},
          "execution_count": 10
        }
      ]
    },
    {
      "cell_type": "code",
      "source": [
        "# 字串插補\n",
        "# 字串和變數整合,成為全新的字串\n",
        "# format 字串\n",
        "\n",
        "apple = 20\n",
        "pipeapple = 10\n",
        "grap = 3\n",
        "\n",
        "print(f\"apple有{apple:.2f}顆,pipeapple有{pipeapple:.1f}顆,grap有{grap:<3d}串。\")\n"
      ],
      "metadata": {
        "id": "kLnoRFiUxeiY",
        "outputId": "348e3162-005b-44b1-b368-54bf7de654f8",
        "colab": {
          "base_uri": "https://localhost:8080/"
        }
      },
      "execution_count": 16,
      "outputs": [
        {
          "output_type": "stream",
          "name": "stdout",
          "text": [
            "apple有20.00顆,pipeapple有10.0顆,grap有3  串。\n"
          ]
        }
      ]
    }
  ]
}