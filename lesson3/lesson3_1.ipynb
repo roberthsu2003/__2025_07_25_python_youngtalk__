{
  "nbformat": 4,
  "nbformat_minor": 0,
  "metadata": {
    "colab": {
      "provenance": [],
      "authorship_tag": "ABX9TyNHiz/7wuDGvkiJqrjLvYv/",
      "include_colab_link": true
    },
    "kernelspec": {
      "name": "python3",
      "display_name": "Python 3"
    },
    "language_info": {
      "name": "python"
    }
  },
  "cells": [
    {
      "cell_type": "markdown",
      "metadata": {
        "id": "view-in-github",
        "colab_type": "text"
      },
      "source": [
        "<a href=\"https://colab.research.google.com/github/roberthsu2003/__2025_07_25_python_youngtalk__/blob/main/lesson3/lesson3_1.ipynb\" target=\"_parent\"><img src=\"https://colab.research.google.com/assets/colab-badge.svg\" alt=\"Open In Colab\"/></a>"
      ]
    },
    {
      "cell_type": "code",
      "execution_count": 2,
      "metadata": {
        "id": "H4QTmwRRkcKw",
        "outputId": "b1029075-2b7b-4a0f-806c-6bb359b58331",
        "colab": {
          "base_uri": "https://localhost:8080/"
        }
      },
      "outputs": [
        {
          "output_type": "stream",
          "name": "stdout",
          "text": [
            "請輸入上底:4.567\n",
            "請輸入下底:6.897\n",
            "請輸入高:3.219\n",
            "\n",
            "======答案是=========\n",
            "\n",
            "上底:4.567\n",
            "下底:6.897\n",
            "高:3.219\n",
            "梯形的面積:18.45\n"
          ]
        }
      ],
      "source": [
        "#讓使用者輸入梯形的上底、下底及高，程式會計算梯形的面積(上底加下底乘以高除以2)\n",
        "top = float(input(\"請輸入上底:\"))\n",
        "bottom = float(input(\"請輸入下底:\"))\n",
        "height = float(input(\"請輸入高:\"))\n",
        "area = (top + bottom) * height / 2\n",
        "\n",
        "print(\"\\n======答案是=========\",end=\"\\n\\n\")\n",
        "print(\"上底:\", top,sep=\"\")\n",
        "print(\"下底:\", bottom,sep=\"\")\n",
        "print(\"高:\", height,sep=\"\")\n",
        "print(\"梯形的面積:\", round(area,ndigits=2),sep=\"\")"
      ]
    }
  ]
}