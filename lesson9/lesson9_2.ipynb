{
 "cells": [
  {
   "cell_type": "code",
   "execution_count": 3,
   "id": "fb9ba9ea",
   "metadata": {},
   "outputs": [
    {
     "data": {
      "text/plain": [
       "(200,)"
      ]
     },
     "execution_count": 3,
     "metadata": {},
     "output_type": "execute_result"
    }
   ],
   "source": [
    "# tuple\n",
    "(404, \"沒有網頁\")\n",
    "404, \"沒有網頁\"\n",
    "\n",
    "(200,)"
   ]
  },
  {
   "cell_type": "code",
   "execution_count": 4,
   "id": "9dffa8e4",
   "metadata": {},
   "outputs": [
    {
     "data": {
      "text/plain": [
       "(200, '正常')"
      ]
     },
     "execution_count": 4,
     "metadata": {},
     "output_type": "execute_result"
    }
   ],
   "source": [
    "# tuple常用的操作模式\n",
    "\n",
    "code, status = 200, \"正常\"\n",
    "code, status"
   ]
  },
  {
   "cell_type": "code",
   "execution_count": null,
   "id": "adfb8264",
   "metadata": {},
   "outputs": [],
   "source": [
    "#list\n",
    "empty_list = []\n",
    "numbers = [1, 2, 3, 4, 5]\n",
    "mixed_data = [1, \"Python\", 3.14, True]\n",
    "\n"
   ]
  }
 ],
 "metadata": {
  "kernelspec": {
   "display_name": "base",
   "language": "python",
   "name": "python3"
  },
  "language_info": {
   "codemirror_mode": {
    "name": "ipython",
    "version": 3
   },
   "file_extension": ".py",
   "mimetype": "text/x-python",
   "name": "python",
   "nbconvert_exporter": "python",
   "pygments_lexer": "ipython3",
   "version": "3.13.2"
  }
 },
 "nbformat": 4,
 "nbformat_minor": 5
}
