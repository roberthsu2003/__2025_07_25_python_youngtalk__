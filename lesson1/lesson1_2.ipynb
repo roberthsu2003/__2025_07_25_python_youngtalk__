{
  "nbformat": 4,
  "nbformat_minor": 0,
  "metadata": {
    "colab": {
      "provenance": [],
      "authorship_tag": "ABX9TyMP9pE0Dyq1yJ9kqDee4Uiy",
      "include_colab_link": true
    },
    "kernelspec": {
      "name": "python3",
      "display_name": "Python 3"
    },
    "language_info": {
      "name": "python"
    }
  },
  "cells": [
    {
      "cell_type": "markdown",
      "metadata": {
        "id": "view-in-github",
        "colab_type": "text"
      },
      "source": [
        "<a href=\"https://colab.research.google.com/github/roberthsu2003/__2025_07_25_python_youngtalk__/blob/main/lesson1/lesson1_2.ipynb\" target=\"_parent\"><img src=\"https://colab.research.google.com/assets/colab-badge.svg\" alt=\"Open In Colab\"/></a>"
      ]
    },
    {
      "cell_type": "markdown",
      "source": [
        "### 運算子的優先順序\n",
        "1. ()\n",
        "2. \\**\n",
        "3. \\* / % //\n",
        "4. \\+ -\n",
        "5. ="
      ],
      "metadata": {
        "id": "_7hZiDIsN3BI"
      }
    },
    {
      "cell_type": "code",
      "execution_count": 1,
      "metadata": {
        "id": "3DWovRuMM9mo",
        "colab": {
          "base_uri": "https://localhost:8080/"
        },
        "outputId": "daa9abb0-14ea-4bdf-f655-95d134faf2da"
      },
      "outputs": [
        {
          "output_type": "execute_result",
          "data": {
            "text/plain": [
              "14"
            ]
          },
          "metadata": {},
          "execution_count": 1
        }
      ],
      "source": [
        "2 + 3 * 4"
      ]
    },
    {
      "cell_type": "code",
      "source": [
        "(2 + 3) * 4"
      ],
      "metadata": {
        "colab": {
          "base_uri": "https://localhost:8080/"
        },
        "id": "n_ymaiejOew5",
        "outputId": "067061f1-da03-4179-e54b-ee1e8bcc2b43"
      },
      "execution_count": 2,
      "outputs": [
        {
          "output_type": "execute_result",
          "data": {
            "text/plain": [
              "20"
            ]
          },
          "metadata": {},
          "execution_count": 2
        }
      ]
    },
    {
      "cell_type": "code",
      "source": [
        "2 * (1 + 2) ** 2 - 2 ** 2 * 2"
      ],
      "metadata": {
        "colab": {
          "base_uri": "https://localhost:8080/"
        },
        "id": "mZSopoFaOp_2",
        "outputId": "2a0d4b4c-ac2b-4f31-c91c-fdce2cbd153e"
      },
      "execution_count": 3,
      "outputs": [
        {
          "output_type": "execute_result",
          "data": {
            "text/plain": [
              "10"
            ]
          },
          "metadata": {},
          "execution_count": 3
        }
      ]
    },
    {
      "cell_type": "code",
      "source": [
        "2.0 * (1 + 2) ** 2 - 2 ** 2 * 2"
      ],
      "metadata": {
        "colab": {
          "base_uri": "https://localhost:8080/"
        },
        "id": "BVS2e-4HPfI-",
        "outputId": "101ded41-fb4b-4190-f72c-5041ab439e5e"
      },
      "execution_count": 4,
      "outputs": [
        {
          "output_type": "execute_result",
          "data": {
            "text/plain": [
              "10.0"
            ]
          },
          "metadata": {},
          "execution_count": 4
        }
      ]
    },
    {
      "cell_type": "code",
      "source": [
        "print('2.0 * (1 + 2) ** 2 - 2 ** 2 * 2 =', 2.0 * (1 + 2) ** 2 - 2 ** 2 * 2)"
      ],
      "metadata": {
        "colab": {
          "base_uri": "https://localhost:8080/"
        },
        "id": "z5EAq2lwPyC5",
        "outputId": "f1f33b01-072d-4738-8468-bbcc5520803a"
      },
      "execution_count": 8,
      "outputs": [
        {
          "output_type": "stream",
          "name": "stdout",
          "text": [
            "2.0 * (1 + 2) ** 2 - 2 ** 2 * 2 = 10.0\n"
          ]
        }
      ]
    },
    {
      "cell_type": "code",
      "source": [
        "print(\"第1題\")\n",
        "print(\"2 + 3 * 4 =\", 2 + 3 * 4)\n",
        "print()\n",
        "print(\"第2題\")\n",
        "print(\"(2 + 3) * 4 =\",(2 + 3) * 4)\n",
        "print()\n",
        "print(\"第3題\")\n",
        "print('2.0 * (1 + 2) ** 2 - 2 ** 2 * 2 =', 2.0 * (1 + 2) ** 2 - 2 ** 2 * 2)\n"
      ],
      "metadata": {
        "id": "w0U-TP7tRvTc",
        "outputId": "afbc0952-8dec-43ba-8c04-ebdd24098c0b",
        "colab": {
          "base_uri": "https://localhost:8080/"
        }
      },
      "execution_count": 12,
      "outputs": [
        {
          "output_type": "stream",
          "name": "stdout",
          "text": [
            "第1題\n",
            "2 + 3 * 4 = 14\n",
            "\n",
            "第2題\n",
            "(2 + 3) * 4 = 20\n",
            "\n",
            "第3題\n",
            "2.0 * (1 + 2) ** 2 - 2 ** 2 * 2 = 10.0\n"
          ]
        }
      ]
    }
  ]
}