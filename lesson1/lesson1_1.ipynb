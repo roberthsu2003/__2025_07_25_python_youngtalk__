{
  "nbformat": 4,
  "nbformat_minor": 0,
  "metadata": {
    "colab": {
      "provenance": [],
      "authorship_tag": "ABX9TyNJIXGfrlxtirhTSSucT8Wg",
      "include_colab_link": true
    },
    "kernelspec": {
      "name": "python3",
      "display_name": "Python 3"
    },
    "language_info": {
      "name": "python"
    }
  },
  "cells": [
    {
      "cell_type": "markdown",
      "metadata": {
        "id": "view-in-github",
        "colab_type": "text"
      },
      "source": [
        "<a href=\"https://colab.research.google.com/github/roberthsu2003/__2025_07_25_python_youngtalk__/blob/main/lesson1/lesson1_1.ipynb\" target=\"_parent\"><img src=\"https://colab.research.google.com/assets/colab-badge.svg\" alt=\"Open In Colab\"/></a>"
      ]
    },
    {
      "cell_type": "code",
      "execution_count": null,
      "metadata": {
        "colab": {
          "base_uri": "https://localhost:8080/"
        },
        "id": "y55IP5Bj4wYn",
        "outputId": "0a58c146-915f-4768-bf80-3ff59ce3e250"
      },
      "outputs": [
        {
          "output_type": "stream",
          "name": "stdout",
          "text": [
            "Hello! Python!\n"
          ]
        }
      ],
      "source": [
        "print(\"Hello! Python!\")"
      ]
    },
    {
      "cell_type": "code",
      "source": [
        "print(\"Hello! 東認青少年班python!\")"
      ],
      "metadata": {
        "id": "apar_3ic9yV7",
        "outputId": "62aa34f6-7bb8-4b6f-b63b-f6d23d9a9523",
        "colab": {
          "base_uri": "https://localhost:8080/"
        }
      },
      "execution_count": null,
      "outputs": [
        {
          "output_type": "stream",
          "name": "stdout",
          "text": [
            "Hello! 東認青少年班python!\n"
          ]
        }
      ]
    },
    {
      "cell_type": "markdown",
      "source": [
        "### python基本資料類別"
      ],
      "metadata": {
        "id": "ugncOl_1DaSY"
      }
    },
    {
      "cell_type": "code",
      "source": [
        "15 #整數int\n",
        "13.5 #浮點數float\n",
        "13.0 #浮點數float\n",
        "\"我是文字\" #字串 str\n",
        "'我是robert' #字串 str\n",
        "'13.5' #字串 str\n",
        "True #布林值 bool\n",
        "False #布林值 bool"
      ],
      "metadata": {
        "colab": {
          "base_uri": "https://localhost:8080/"
        },
        "id": "hv1XjzE0AaV3",
        "outputId": "66b55a30-9fee-48ed-ad21-f5921720a56b"
      },
      "execution_count": 8,
      "outputs": [
        {
          "output_type": "execute_result",
          "data": {
            "text/plain": [
              "False"
            ]
          },
          "metadata": {},
          "execution_count": 8
        }
      ]
    },
    {
      "cell_type": "code",
      "source": [
        "5 + 8\n",
        "90 - 10\n",
        "4 * 7\n",
        "7 / 2\n",
        "7 // 2\n",
        "7 % 3\n",
        "3 ** 4\n",
        "3 ** 99"
      ],
      "metadata": {
        "colab": {
          "base_uri": "https://localhost:8080/"
        },
        "id": "6TqrgyHOFaZO",
        "outputId": "9bf0d9a6-0f76-427f-e981-6e62def5eccb"
      },
      "execution_count": 16,
      "outputs": [
        {
          "output_type": "execute_result",
          "data": {
            "text/plain": [
              "171792506910670443678820376588540424234035840667"
            ]
          },
          "metadata": {},
          "execution_count": 16
        }
      ]
    },
    {
      "cell_type": "markdown",
      "source": [
        "### 只有數值才可以數學運算"
      ],
      "metadata": {
        "id": "EpzR-ppVLkgk"
      }
    },
    {
      "cell_type": "code",
      "source": [
        "5 + 8\n",
        "5.0 + 8.0\n",
        "5 + 8.0"
      ],
      "metadata": {
        "id": "iRDz9ut5KFx4",
        "outputId": "42095b39-b50c-4218-d54c-7b0813eab070",
        "colab": {
          "base_uri": "https://localhost:8080/"
        }
      },
      "execution_count": 22,
      "outputs": [
        {
          "output_type": "execute_result",
          "data": {
            "text/plain": [
              "13.0"
            ]
          },
          "metadata": {},
          "execution_count": 22
        }
      ]
    },
    {
      "cell_type": "markdown",
      "source": [
        "### 如果數值和字串運算,會有錯誤訊息"
      ],
      "metadata": {
        "id": "auswfzzBLx7Z"
      }
    },
    {
      "cell_type": "code",
      "source": [
        "5 + '8.0'"
      ],
      "metadata": {
        "id": "fLnzY6nBL6Hc",
        "outputId": "be997920-7fc3-4cf4-d29a-2c7055ee8082",
        "colab": {
          "base_uri": "https://localhost:8080/",
          "height": 144
        }
      },
      "execution_count": 23,
      "outputs": [
        {
          "output_type": "error",
          "ename": "TypeError",
          "evalue": "unsupported operand type(s) for +: 'int' and 'str'",
          "traceback": [
            "\u001b[0;31m---------------------------------------------------------------------------\u001b[0m",
            "\u001b[0;31mTypeError\u001b[0m                                 Traceback (most recent call last)",
            "\u001b[0;32m/tmp/ipython-input-23-1989433603.py\u001b[0m in \u001b[0;36m<cell line: 0>\u001b[0;34m()\u001b[0m\n\u001b[0;32m----> 1\u001b[0;31m \u001b[0;36m5\u001b[0m \u001b[0;34m+\u001b[0m \u001b[0;34m'8.0'\u001b[0m\u001b[0;34m\u001b[0m\u001b[0;34m\u001b[0m\u001b[0m\n\u001b[0m",
            "\u001b[0;31mTypeError\u001b[0m: unsupported operand type(s) for +: 'int' and 'str'"
          ]
        }
      ]
    }
  ]
}